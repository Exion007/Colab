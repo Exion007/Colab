{
  "cells": [
    {
      "cell_type": "code",
      "source": [
        "import re\n",
        "import sys\n",
        "import nltk\n",
        "import spacy\n",
        "import numpy as np\n",
        "import pandas as pd\n",
        "\n",
        "import multiprocessing\n",
        "from functools import partial\n",
        "from nltk.corpus import stopwords\n",
        "from nltk.tokenize import word_tokenize\n",
        "from nltk.stem import PorterStemmer, WordNetLemmatizer"
      ],
      "metadata": {
        "id": "_tM6mYRuE9AV"
      },
      "execution_count": null,
      "outputs": []
    },
    {
      "cell_type": "code",
      "source": [
        "#!{sys.executable} -m pip install contractions\n",
        "import contractions\n",
        "\n",
        "nltk.download('punkt')\n",
        "nltk.download('wordnet')\n",
        "nltk.download('stopwords')"
      ],
      "metadata": {
        "colab": {
          "base_uri": "https://localhost:8080/"
        },
        "id": "TAfhK-V5E-1z",
        "outputId": "b2845cb9-f354-4fc3-a9db-13fac3cd3c34"
      },
      "execution_count": null,
      "outputs": [
        {
          "output_type": "stream",
          "name": "stderr",
          "text": [
            "[nltk_data] Downloading package punkt to /root/nltk_data...\n",
            "[nltk_data]   Package punkt is already up-to-date!\n",
            "[nltk_data] Downloading package wordnet to /root/nltk_data...\n",
            "[nltk_data]   Package wordnet is already up-to-date!\n",
            "[nltk_data] Downloading package stopwords to /root/nltk_data...\n",
            "[nltk_data]   Package stopwords is already up-to-date!\n"
          ]
        },
        {
          "output_type": "execute_result",
          "data": {
            "text/plain": [
              "True"
            ]
          },
          "metadata": {},
          "execution_count": 149
        }
      ]
    },
    {
      "cell_type": "code",
      "source": [
        "rawdf = pd.read_csv('file2.csv', engine=\"python\", on_bad_lines=\"skip\")\n",
        "rawdf.dropna(inplace=True)"
      ],
      "metadata": {
        "id": "YDmpVoZvFHrB"
      },
      "execution_count": null,
      "outputs": []
    },
    {
      "cell_type": "code",
      "source": [
        "print(rawdf.shape[0])"
      ],
      "metadata": {
        "colab": {
          "base_uri": "https://localhost:8080/"
        },
        "id": "g2sqITfWL87H",
        "outputId": "d7f6c66b-b43b-4594-a5f3-5b1fd0596ade"
      },
      "execution_count": null,
      "outputs": [
        {
          "output_type": "stream",
          "name": "stdout",
          "text": [
            "4489\n"
          ]
        }
      ]
    },
    {
      "cell_type": "code",
      "source": [
        "rawdf.info()"
      ],
      "metadata": {
        "colab": {
          "base_uri": "https://localhost:8080/"
        },
        "id": "WIPDk4n2WUMW",
        "outputId": "dd3dc1cb-93ee-4a1a-b7c9-498df552a956"
      },
      "execution_count": null,
      "outputs": [
        {
          "output_type": "stream",
          "name": "stdout",
          "text": [
            "<class 'pandas.core.frame.DataFrame'>\n",
            "Int64Index: 4489 entries, 0 to 4834\n",
            "Data columns (total 2 columns):\n",
            " #   Column  Non-Null Count  Dtype \n",
            "---  ------  --------------  ----- \n",
            " 0   text    4489 non-null   object\n",
            " 1   label   4489 non-null   object\n",
            "dtypes: object(2)\n",
            "memory usage: 105.2+ KB\n"
          ]
        }
      ]
    },
    {
      "cell_type": "code",
      "source": [
        "labels = ['AVI', 'MIS', 'OTH', 'WIN', 'WEA',\n",
        "           'COC', 'PRP', 'MEC', 'ELC', 'LAG',\n",
        "           'FLC', 'FFC', 'ECS', 'FLU']\n",
        "\n",
        "def filter_by_label(df):\n",
        "  filtered_df = rawdf[rawdf['label'].apply(lambda x: isinstance(x, str) and x in labels)]\n",
        "  return filtered_df\n",
        "\n",
        "df = filter_by_label(rawdf)"
      ],
      "metadata": {
        "id": "Wc1Z-eJiS7zY"
      },
      "execution_count": null,
      "outputs": []
    },
    {
      "cell_type": "code",
      "source": [
        "df.info()"
      ],
      "metadata": {
        "colab": {
          "base_uri": "https://localhost:8080/"
        },
        "id": "DJY70tSMXKwc",
        "outputId": "a1457d32-e976-4f74-c6dc-a5139044373a"
      },
      "execution_count": null,
      "outputs": [
        {
          "output_type": "stream",
          "name": "stdout",
          "text": [
            "<class 'pandas.core.frame.DataFrame'>\n",
            "Int64Index: 4374 entries, 0 to 4834\n",
            "Data columns (total 2 columns):\n",
            " #   Column  Non-Null Count  Dtype \n",
            "---  ------  --------------  ----- \n",
            " 0   text    4374 non-null   object\n",
            " 1   label   4374 non-null   object\n",
            "dtypes: object(2)\n",
            "memory usage: 102.5+ KB\n"
          ]
        }
      ]
    },
    {
      "cell_type": "code",
      "source": [
        "class_counts = df.groupby('label').size().reset_index(name='count')\n",
        "print(class_counts)"
      ],
      "metadata": {
        "colab": {
          "base_uri": "https://localhost:8080/"
        },
        "id": "vexxHuvUYno9",
        "outputId": "a087eb8b-616e-4c1b-d20f-061703d0c713"
      },
      "execution_count": null,
      "outputs": [
        {
          "output_type": "stream",
          "name": "stdout",
          "text": [
            "   label  count\n",
            "0    AVI   1633\n",
            "1    COC    370\n",
            "2    ECS     12\n",
            "3    ELC     18\n",
            "4    FFC     24\n",
            "5    FLC    109\n",
            "6    FLU      3\n",
            "7    LAG     36\n",
            "8    MEC     29\n",
            "9    MIS    872\n",
            "10   OTH    821\n",
            "11   PRP     99\n",
            "12   WEA    330\n",
            "13   WIN     18\n"
          ]
        }
      ]
    },
    {
      "cell_type": "code",
      "source": [
        "def expand_contractions(text):\n",
        "    contractions = {\n",
        "        \"n't\": \"not\",\n",
        "        \"'ve\": \"have\",\n",
        "        \"'ll\": \"will\",\n",
        "        \"'d\": \"would\",\n",
        "        \"'re\": \"are\",\n",
        "        \"'s\": \"is\",\n",
        "        \"'m\": \"am\"\n",
        "    }\n",
        "    pattern = re.compile(r\"\\b(?:\" + \"|\".join(contractions.keys()) + r\")\\b\")\n",
        "    return pattern.sub(lambda match: contractions[match.group(0)], text)\n",
        "\n",
        "# Function to remove special characters\n",
        "def remove_special_characters(text):\n",
        "    special_characters_pattern = re.compile(r\"[#%@\\<>{}()=\\[\\]*\\-\\\\|_½]\")\n",
        "    return special_characters_pattern.sub(\"\", text)\n",
        "\n",
        "\n",
        "def preprocess_text(text):\n",
        "    text = expand_contractions(text)\n",
        "    text = remove_special_characters(text)\n",
        "\n",
        "    tokens = nltk.word_tokenize(text)\n",
        "\n",
        "    lemmatizer = nltk.stem.WordNetLemmatizer()\n",
        "    lemmatized_tokens = [lemmatizer.lemmatize(token) for token in tokens]\n",
        "    lemmatized_tokens = [token.lower() for token in lemmatized_tokens]\n",
        "\n",
        "    stop_words = set(nltk.corpus.stopwords.words('english'))\n",
        "    filtered_tokens = [token for token in lemmatized_tokens if token not in stop_words]\n",
        "\n",
        "    return filtered_tokens\n",
        "\n",
        "df['text'] = df['text'].apply(preprocess_text)"
      ],
      "metadata": {
        "colab": {
          "base_uri": "https://localhost:8080/"
        },
        "id": "fKF4GiTOOH6N",
        "outputId": "ff76cae8-70a9-4dbf-f20e-a8314fc7d4c9"
      },
      "execution_count": null,
      "outputs": [
        {
          "output_type": "stream",
          "name": "stderr",
          "text": [
            "<ipython-input-157-619a5b65d71b>:35: SettingWithCopyWarning: \n",
            "A value is trying to be set on a copy of a slice from a DataFrame.\n",
            "Try using .loc[row_indexer,col_indexer] = value instead\n",
            "\n",
            "See the caveats in the documentation: https://pandas.pydata.org/pandas-docs/stable/user_guide/indexing.html#returning-a-view-versus-a-copy\n",
            "  df['text'] = df['text'].apply(preprocess_text)\n"
          ]
        }
      ]
    },
    {
      "cell_type": "code",
      "source": [
        "import time\n",
        "from sklearn.model_selection import train_test_split\n",
        "from sklearn.feature_extraction.text import TfidfVectorizer\n",
        "from sklearn.metrics import classification_report, accuracy_score, precision_score, recall_score, f1_score, confusion_matrix"
      ],
      "metadata": {
        "id": "SKCoUOA2QHkI"
      },
      "execution_count": null,
      "outputs": []
    },
    {
      "cell_type": "code",
      "source": [
        "X_train, X_test, y_train, y_test = train_test_split(df['text'], df['label'], test_size=0.1, random_state=42)\n",
        "\n",
        "X_train = [' '.join(tokens) for tokens in X_train]\n",
        "X_test = [' '.join(tokens) for tokens in X_test]\n",
        "\n",
        "tfidf_vectorizer = TfidfVectorizer(max_features=20000)\n",
        "X_train_tfidf = tfidf_vectorizer.fit_transform(X_train)\n",
        "X_test_tfidf = tfidf_vectorizer.transform(X_test)"
      ],
      "metadata": {
        "id": "XLKTZgWaUj1H"
      },
      "execution_count": null,
      "outputs": []
    },
    {
      "cell_type": "code",
      "source": [
        "from sklearn.naive_bayes import MultinomialNB\n",
        "\n",
        "nb_model = MultinomialNB()\n",
        "\n",
        "start = time.time()\n",
        "nb_model.fit(X_train_tfidf, y_train)\n",
        "y_pred_nb = nb_model.predict(X_test_tfidf)\n",
        "end = time.time()\n",
        "\n",
        "report = classification_report(y_test, y_pred_nb)\n",
        "\n",
        "print(f\"MultinomialNB Execution Time: {end-start}\")\n",
        "print(\"MultinomialNB Accuracy:\", accuracy_score(y_test, y_pred_nb))\n",
        "print(report)"
      ],
      "metadata": {
        "colab": {
          "base_uri": "https://localhost:8080/"
        },
        "id": "kzc9FAIIQMAS",
        "outputId": "c38082c0-e030-4f75-ccbe-21b780480a9e"
      },
      "execution_count": null,
      "outputs": [
        {
          "output_type": "stream",
          "name": "stdout",
          "text": [
            "MultinomialNB Execution Time: 0.04742002487182617\n",
            "MultinomialNB Accuracy: 0.3972602739726027\n",
            "              precision    recall  f1-score   support\n",
            "\n",
            "         AVI       0.37      0.98      0.54       154\n",
            "         COC       0.00      0.00      0.00        36\n",
            "         ECS       0.00      0.00      0.00         2\n",
            "         FFC       0.00      0.00      0.00         3\n",
            "         FLC       0.00      0.00      0.00        11\n",
            "         LAG       0.00      0.00      0.00         4\n",
            "         MEC       0.00      0.00      0.00         2\n",
            "         MIS       0.83      0.06      0.12        78\n",
            "         OTH       0.86      0.19      0.31        94\n",
            "         PRP       0.00      0.00      0.00        11\n",
            "         WEA       0.00      0.00      0.00        41\n",
            "         WIN       0.00      0.00      0.00         2\n",
            "\n",
            "    accuracy                           0.40       438\n",
            "   macro avg       0.17      0.10      0.08       438\n",
            "weighted avg       0.46      0.40      0.28       438\n",
            "\n"
          ]
        },
        {
          "output_type": "stream",
          "name": "stderr",
          "text": [
            "/usr/local/lib/python3.10/dist-packages/sklearn/metrics/_classification.py:1344: UndefinedMetricWarning: Precision and F-score are ill-defined and being set to 0.0 in labels with no predicted samples. Use `zero_division` parameter to control this behavior.\n",
            "  _warn_prf(average, modifier, msg_start, len(result))\n",
            "/usr/local/lib/python3.10/dist-packages/sklearn/metrics/_classification.py:1344: UndefinedMetricWarning: Precision and F-score are ill-defined and being set to 0.0 in labels with no predicted samples. Use `zero_division` parameter to control this behavior.\n",
            "  _warn_prf(average, modifier, msg_start, len(result))\n",
            "/usr/local/lib/python3.10/dist-packages/sklearn/metrics/_classification.py:1344: UndefinedMetricWarning: Precision and F-score are ill-defined and being set to 0.0 in labels with no predicted samples. Use `zero_division` parameter to control this behavior.\n",
            "  _warn_prf(average, modifier, msg_start, len(result))\n"
          ]
        }
      ]
    },
    {
      "cell_type": "code",
      "source": [
        "from sklearn.linear_model import LogisticRegression\n",
        "\n",
        "lr_model = LogisticRegression(max_iter=20000)\n",
        "\n",
        "start = time.time()\n",
        "lr_model.fit(X_train_tfidf, y_train)\n",
        "y_pred_lr = lr_model.predict(X_test_tfidf)\n",
        "end = time.time()\n",
        "\n",
        "report = classification_report(y_test, y_pred_lr)\n",
        "\n",
        "print(f\"Logistic Regression Execution Time: {end-start}\")\n",
        "print(\"Logistic Regression Accuracy:\", accuracy_score(y_test, y_pred_lr))\n",
        "print(report)"
      ],
      "metadata": {
        "colab": {
          "base_uri": "https://localhost:8080/"
        },
        "id": "jc-TAXrKUTEj",
        "outputId": "ded35b90-8eb0-4246-b700-e94a97c5e620"
      },
      "execution_count": null,
      "outputs": [
        {
          "output_type": "stream",
          "name": "stdout",
          "text": [
            "Logistic Regression Execution Time: 18.54921817779541\n",
            "Logistic Regression Accuracy: 0.5114155251141552\n",
            "              precision    recall  f1-score   support\n",
            "\n",
            "         AVI       0.47      0.77      0.58       154\n",
            "         COC       0.56      0.14      0.22        36\n",
            "         ECS       0.00      0.00      0.00         2\n",
            "         FFC       0.00      0.00      0.00         3\n",
            "         FLC       1.00      0.09      0.17        11\n",
            "         LAG       0.00      0.00      0.00         4\n",
            "         MEC       0.00      0.00      0.00         2\n",
            "         MIS       0.49      0.47      0.48        78\n",
            "         OTH       0.58      0.48      0.53        94\n",
            "         PRP       1.00      0.18      0.31        11\n",
            "         WEA       0.75      0.37      0.49        41\n",
            "         WIN       0.00      0.00      0.00         2\n",
            "\n",
            "    accuracy                           0.51       438\n",
            "   macro avg       0.40      0.21      0.23       438\n",
            "weighted avg       0.54      0.51      0.48       438\n",
            "\n"
          ]
        },
        {
          "output_type": "stream",
          "name": "stderr",
          "text": [
            "/usr/local/lib/python3.10/dist-packages/sklearn/metrics/_classification.py:1344: UndefinedMetricWarning: Precision and F-score are ill-defined and being set to 0.0 in labels with no predicted samples. Use `zero_division` parameter to control this behavior.\n",
            "  _warn_prf(average, modifier, msg_start, len(result))\n",
            "/usr/local/lib/python3.10/dist-packages/sklearn/metrics/_classification.py:1344: UndefinedMetricWarning: Precision and F-score are ill-defined and being set to 0.0 in labels with no predicted samples. Use `zero_division` parameter to control this behavior.\n",
            "  _warn_prf(average, modifier, msg_start, len(result))\n",
            "/usr/local/lib/python3.10/dist-packages/sklearn/metrics/_classification.py:1344: UndefinedMetricWarning: Precision and F-score are ill-defined and being set to 0.0 in labels with no predicted samples. Use `zero_division` parameter to control this behavior.\n",
            "  _warn_prf(average, modifier, msg_start, len(result))\n"
          ]
        }
      ]
    },
    {
      "cell_type": "code",
      "source": [
        "from sklearn.svm import LinearSVC\n",
        "svm_model = LinearSVC()\n",
        "\n",
        "start = time.time()\n",
        "svm_model.fit(X_train_tfidf, y_train)\n",
        "y_pred_svm = svm_model.predict(X_test_tfidf)\n",
        "end = time.time()\n",
        "\n",
        "report = classification_report(y_test, y_pred_svm)\n",
        "\n",
        "print(f\"Linear SVM Execution Time: {end-start}\")\n",
        "print(\"Linear SVM Accuracy:\", accuracy_score(y_test, y_pred_svm))\n",
        "print(report)"
      ],
      "metadata": {
        "colab": {
          "base_uri": "https://localhost:8080/"
        },
        "id": "ggPakod3UN0A",
        "outputId": "6a5f0261-b649-4f21-bf10-b94730e4be44"
      },
      "execution_count": null,
      "outputs": [
        {
          "output_type": "stream",
          "name": "stdout",
          "text": [
            "Linear SVM Execution Time: 1.5595958232879639\n",
            "Linear SVM Accuracy: 0.5045662100456622\n",
            "              precision    recall  f1-score   support\n",
            "\n",
            "         AVI       0.49      0.64      0.56       154\n",
            "         COC       0.57      0.22      0.32        36\n",
            "         ECS       0.50      0.50      0.50         2\n",
            "         ELC       0.00      0.00      0.00         0\n",
            "         FFC       1.00      0.33      0.50         3\n",
            "         FLC       0.43      0.27      0.33        11\n",
            "         LAG       1.00      0.25      0.40         4\n",
            "         MEC       0.00      0.00      0.00         2\n",
            "         MIS       0.44      0.47      0.46        78\n",
            "         OTH       0.58      0.54      0.56        94\n",
            "         PRP       1.00      0.36      0.53        11\n",
            "         WEA       0.46      0.39      0.42        41\n",
            "         WIN       0.00      0.00      0.00         2\n",
            "\n",
            "    accuracy                           0.50       438\n",
            "   macro avg       0.50      0.31      0.35       438\n",
            "weighted avg       0.52      0.50      0.49       438\n",
            "\n"
          ]
        },
        {
          "output_type": "stream",
          "name": "stderr",
          "text": [
            "/usr/local/lib/python3.10/dist-packages/sklearn/metrics/_classification.py:1344: UndefinedMetricWarning: Precision and F-score are ill-defined and being set to 0.0 in labels with no predicted samples. Use `zero_division` parameter to control this behavior.\n",
            "  _warn_prf(average, modifier, msg_start, len(result))\n",
            "/usr/local/lib/python3.10/dist-packages/sklearn/metrics/_classification.py:1344: UndefinedMetricWarning: Recall and F-score are ill-defined and being set to 0.0 in labels with no true samples. Use `zero_division` parameter to control this behavior.\n",
            "  _warn_prf(average, modifier, msg_start, len(result))\n",
            "/usr/local/lib/python3.10/dist-packages/sklearn/metrics/_classification.py:1344: UndefinedMetricWarning: Precision and F-score are ill-defined and being set to 0.0 in labels with no predicted samples. Use `zero_division` parameter to control this behavior.\n",
            "  _warn_prf(average, modifier, msg_start, len(result))\n",
            "/usr/local/lib/python3.10/dist-packages/sklearn/metrics/_classification.py:1344: UndefinedMetricWarning: Recall and F-score are ill-defined and being set to 0.0 in labels with no true samples. Use `zero_division` parameter to control this behavior.\n",
            "  _warn_prf(average, modifier, msg_start, len(result))\n",
            "/usr/local/lib/python3.10/dist-packages/sklearn/metrics/_classification.py:1344: UndefinedMetricWarning: Precision and F-score are ill-defined and being set to 0.0 in labels with no predicted samples. Use `zero_division` parameter to control this behavior.\n",
            "  _warn_prf(average, modifier, msg_start, len(result))\n",
            "/usr/local/lib/python3.10/dist-packages/sklearn/metrics/_classification.py:1344: UndefinedMetricWarning: Recall and F-score are ill-defined and being set to 0.0 in labels with no true samples. Use `zero_division` parameter to control this behavior.\n",
            "  _warn_prf(average, modifier, msg_start, len(result))\n"
          ]
        }
      ]
    },
    {
      "cell_type": "code",
      "source": [
        "from sklearn.ensemble import RandomForestClassifier\n",
        "\n",
        "rf_model = RandomForestClassifier(n_estimators=100, random_state=42)\n",
        "\n",
        "start = time.time()\n",
        "rf_model.fit(X_train_tfidf, y_train)\n",
        "y_pred_rf = rf_model.predict(X_test_tfidf)\n",
        "end = time.time()\n",
        "\n",
        "report = classification_report(y_test, y_pred_rf)\n",
        "\n",
        "print(f\"Random Forest Execution Time: {end-start}\")\n",
        "print(\"Random Forest Accuracy:\", accuracy_score(y_test, y_pred_rf))\n",
        "print(report)"
      ],
      "metadata": {
        "colab": {
          "base_uri": "https://localhost:8080/"
        },
        "id": "x9zzz6ZxTqj_",
        "outputId": "127dd4be-ce85-4c7b-ed78-42b3b67b60db"
      },
      "execution_count": null,
      "outputs": [
        {
          "output_type": "stream",
          "name": "stdout",
          "text": [
            "Random Forest Execution Time: 20.6485276222229\n",
            "Random Forest Accuracy: 0.4611872146118721\n",
            "              precision    recall  f1-score   support\n",
            "\n",
            "         AVI       0.42      0.84      0.56       154\n",
            "         COC       0.40      0.06      0.10        36\n",
            "         ECS       0.00      0.00      0.00         2\n",
            "         ELC       0.00      0.00      0.00         0\n",
            "         FFC       0.00      0.00      0.00         3\n",
            "         FLC       0.50      0.18      0.27        11\n",
            "         LAG       0.00      0.00      0.00         4\n",
            "         MEC       0.00      0.00      0.00         2\n",
            "         MIS       0.48      0.28      0.35        78\n",
            "         OTH       0.64      0.41      0.50        94\n",
            "         PRP       1.00      0.09      0.17        11\n",
            "         WEA       0.70      0.17      0.27        41\n",
            "         WIN       0.00      0.00      0.00         2\n",
            "\n",
            "    accuracy                           0.46       438\n",
            "   macro avg       0.32      0.16      0.17       438\n",
            "weighted avg       0.50      0.46      0.41       438\n",
            "\n"
          ]
        },
        {
          "output_type": "stream",
          "name": "stderr",
          "text": [
            "/usr/local/lib/python3.10/dist-packages/sklearn/metrics/_classification.py:1344: UndefinedMetricWarning: Precision and F-score are ill-defined and being set to 0.0 in labels with no predicted samples. Use `zero_division` parameter to control this behavior.\n",
            "  _warn_prf(average, modifier, msg_start, len(result))\n",
            "/usr/local/lib/python3.10/dist-packages/sklearn/metrics/_classification.py:1344: UndefinedMetricWarning: Recall and F-score are ill-defined and being set to 0.0 in labels with no true samples. Use `zero_division` parameter to control this behavior.\n",
            "  _warn_prf(average, modifier, msg_start, len(result))\n",
            "/usr/local/lib/python3.10/dist-packages/sklearn/metrics/_classification.py:1344: UndefinedMetricWarning: Precision and F-score are ill-defined and being set to 0.0 in labels with no predicted samples. Use `zero_division` parameter to control this behavior.\n",
            "  _warn_prf(average, modifier, msg_start, len(result))\n",
            "/usr/local/lib/python3.10/dist-packages/sklearn/metrics/_classification.py:1344: UndefinedMetricWarning: Recall and F-score are ill-defined and being set to 0.0 in labels with no true samples. Use `zero_division` parameter to control this behavior.\n",
            "  _warn_prf(average, modifier, msg_start, len(result))\n",
            "/usr/local/lib/python3.10/dist-packages/sklearn/metrics/_classification.py:1344: UndefinedMetricWarning: Precision and F-score are ill-defined and being set to 0.0 in labels with no predicted samples. Use `zero_division` parameter to control this behavior.\n",
            "  _warn_prf(average, modifier, msg_start, len(result))\n",
            "/usr/local/lib/python3.10/dist-packages/sklearn/metrics/_classification.py:1344: UndefinedMetricWarning: Recall and F-score are ill-defined and being set to 0.0 in labels with no true samples. Use `zero_division` parameter to control this behavior.\n",
            "  _warn_prf(average, modifier, msg_start, len(result))\n"
          ]
        }
      ]
    }
  ],
  "metadata": {
    "colab": {
      "name": "Welcome To Colaboratory",
      "provenance": []
    },
    "kernelspec": {
      "display_name": "Python 3",
      "name": "python3"
    }
  },
  "nbformat": 4,
  "nbformat_minor": 0
}