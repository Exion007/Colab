{
  "cells": [
    {
      "cell_type": "code",
      "source": [
        "import re\n",
        "import sys\n",
        "import nltk\n",
        "import spacy\n",
        "import numpy as np\n",
        "import pandas as pd\n",
        "\n",
        "import multiprocessing\n",
        "from functools import partial\n",
        "from nltk.corpus import stopwords\n",
        "from nltk.tokenize import word_tokenize\n",
        "from nltk.stem import PorterStemmer, WordNetLemmatizer"
      ],
      "metadata": {
        "id": "_tM6mYRuE9AV"
      },
      "execution_count": 2,
      "outputs": []
    },
    {
      "cell_type": "code",
      "source": [
        "#!{sys.executable} -m pip install contractions\n",
        "import contractions\n",
        "\n",
        "nltk.download('punkt')\n",
        "nltk.download('wordnet')\n",
        "nltk.download('stopwords')"
      ],
      "metadata": {
        "colab": {
          "base_uri": "https://localhost:8080/"
        },
        "id": "TAfhK-V5E-1z",
        "outputId": "05e2d5dc-6dcc-41b9-8559-bd3a6dc9a1e5"
      },
      "execution_count": 4,
      "outputs": [
        {
          "output_type": "stream",
          "name": "stderr",
          "text": [
            "[nltk_data] Downloading package punkt to /root/nltk_data...\n",
            "[nltk_data]   Package punkt is already up-to-date!\n",
            "[nltk_data] Downloading package wordnet to /root/nltk_data...\n",
            "[nltk_data]   Package wordnet is already up-to-date!\n",
            "[nltk_data] Downloading package stopwords to /root/nltk_data...\n",
            "[nltk_data]   Package stopwords is already up-to-date!\n"
          ]
        },
        {
          "output_type": "execute_result",
          "data": {
            "text/plain": [
              "True"
            ]
          },
          "metadata": {},
          "execution_count": 4
        }
      ]
    },
    {
      "cell_type": "code",
      "source": [
        "rawdf = pd.read_csv('merged_ls_200923.csv', engine=\"python\", on_bad_lines=\"skip\")\n",
        "rawdf.dropna(inplace=True)"
      ],
      "metadata": {
        "id": "YDmpVoZvFHrB"
      },
      "execution_count": 6,
      "outputs": []
    },
    {
      "cell_type": "code",
      "source": [
        "print(rawdf.shape[0])"
      ],
      "metadata": {
        "colab": {
          "base_uri": "https://localhost:8080/"
        },
        "id": "g2sqITfWL87H",
        "outputId": "d3c693d9-6195-4ebd-de2b-b12722f08f01"
      },
      "execution_count": 7,
      "outputs": [
        {
          "output_type": "stream",
          "name": "stdout",
          "text": [
            "21210\n"
          ]
        }
      ]
    },
    {
      "cell_type": "code",
      "source": [
        "rawdf.info()"
      ],
      "metadata": {
        "colab": {
          "base_uri": "https://localhost:8080/"
        },
        "id": "WIPDk4n2WUMW",
        "outputId": "c9ecf29a-ef93-4361-a6e0-7bee25bbc611"
      },
      "execution_count": 8,
      "outputs": [
        {
          "output_type": "stream",
          "name": "stdout",
          "text": [
            "<class 'pandas.core.frame.DataFrame'>\n",
            "Int64Index: 21210 entries, 0 to 23667\n",
            "Data columns (total 2 columns):\n",
            " #   Column  Non-Null Count  Dtype \n",
            "---  ------  --------------  ----- \n",
            " 0   text    21210 non-null  object\n",
            " 1   label   21210 non-null  object\n",
            "dtypes: object(2)\n",
            "memory usage: 497.1+ KB\n"
          ]
        }
      ]
    },
    {
      "cell_type": "code",
      "source": [
        "labels = ['AVI', 'MIS', 'OTH', 'WIN', 'WEA',\n",
        "           'COC', 'PRP', 'MEC', 'ELC', 'LAG',\n",
        "           'FLC', 'FFC', 'ECS', 'FLU']\n",
        "\n",
        "def filter_by_label(df):\n",
        "  filtered_df = rawdf[rawdf['label'].apply(lambda x: isinstance(x, str) and x in labels)]\n",
        "  return filtered_df\n",
        "\n",
        "df = filter_by_label(rawdf)"
      ],
      "metadata": {
        "id": "Wc1Z-eJiS7zY"
      },
      "execution_count": 9,
      "outputs": []
    },
    {
      "cell_type": "code",
      "source": [
        "df.info()"
      ],
      "metadata": {
        "colab": {
          "base_uri": "https://localhost:8080/"
        },
        "id": "DJY70tSMXKwc",
        "outputId": "1659ed14-f6e4-4919-b9ef-051ae96cae07"
      },
      "execution_count": 10,
      "outputs": [
        {
          "output_type": "stream",
          "name": "stdout",
          "text": [
            "<class 'pandas.core.frame.DataFrame'>\n",
            "Int64Index: 20867 entries, 0 to 23667\n",
            "Data columns (total 2 columns):\n",
            " #   Column  Non-Null Count  Dtype \n",
            "---  ------  --------------  ----- \n",
            " 0   text    20867 non-null  object\n",
            " 1   label   20867 non-null  object\n",
            "dtypes: object(2)\n",
            "memory usage: 489.1+ KB\n"
          ]
        }
      ]
    },
    {
      "cell_type": "code",
      "source": [
        "class_counts = df.groupby('label').size().reset_index(name='count')\n",
        "print(class_counts)"
      ],
      "metadata": {
        "colab": {
          "base_uri": "https://localhost:8080/"
        },
        "id": "vexxHuvUYno9",
        "outputId": "b45126bc-803b-4466-c9c4-debc4cdc4998"
      },
      "execution_count": 11,
      "outputs": [
        {
          "output_type": "stream",
          "name": "stdout",
          "text": [
            "   label  count\n",
            "0    AVI   7775\n",
            "1    COC   1738\n",
            "2    ECS     48\n",
            "3    ELC     60\n",
            "4    FFC    132\n",
            "5    FLC    528\n",
            "6    FLU     26\n",
            "7    LAG    140\n",
            "8    MEC    129\n",
            "9    MIS   4131\n",
            "10   OTH   4044\n",
            "11   PRP    453\n",
            "12   WEA   1573\n",
            "13   WIN     90\n"
          ]
        }
      ]
    },
    {
      "cell_type": "code",
      "source": [
        "# nlp = spacy.load(\"en_core_web_sm\")\n",
        "# # stemmer = PorterStemmer()\n",
        "# # lemmatizer = WordNetLemmatizer()\n",
        "# # stop_words = set(stopwords.words('english'))\n",
        "\n",
        "\n",
        "# def expand_contractions(text):\n",
        "#     contractions_pattern = re.compile(r\"(?i)(\\w+)(n't|'ve|'ll|'d|'re|'s|'m)\")\n",
        "#     def replace(match):\n",
        "#         contraction, suffix = match.groups()\n",
        "#         if suffix == \"n't\":\n",
        "#             return contraction + \" not\"\n",
        "#         elif suffix in [\"'ve\", \"'ll\", \"'d\"]:\n",
        "#             return contraction + \" \" + suffix\n",
        "#         elif suffix == \"'re\":\n",
        "#             return contraction + \" are\"\n",
        "#         elif suffix == \"'s\":\n",
        "#             return contraction + \" 's\"\n",
        "#         elif suffix == \"'m\":\n",
        "#             return contraction + \" am\"\n",
        "\n",
        "#     return contractions_pattern.sub(replace, text)\n",
        "\n",
        "\n",
        "# def remove_special_characters(text):\n",
        "#     pattern = re.compile(r\"[#%@\\<>{}()=\\[\\]*\\-\\\\|_½]\")\n",
        "#     return pattern.sub(\"\", text.lower())\n",
        "\n",
        "\n",
        "# def clean_text(text):\n",
        "\n",
        "#     text = remove_special_characters(text)\n",
        "#     #text = expand_contractions(text)\n",
        "#     text = contractions.fix(text)\n",
        "\n",
        "#     doc = nlp(text)\n",
        "\n",
        "#     lemmatized_tokens = [token.lemma_ for token in doc]\n",
        "#     lemmatized_tokens = [token.lower() for token in lemmatized_tokens]\n",
        "#     lemmatized_tokens = [token for token in lemmatized_tokens if not nlp.vocab[token].is_stop]\n",
        "\n",
        "#     return lemmatized_tokens\n",
        "\n",
        "# processed_texts = list(nlp.pipe(df['text'], batch_size=500, n_process=-1))\n",
        "\n",
        "# preprocessed_texts = [clean_text(text) for text in processed_texts]\n",
        "\n",
        "# df['text'] = preprocessed_texts"
      ],
      "metadata": {
        "id": "MAtybCcxbkMN"
      },
      "execution_count": 12,
      "outputs": []
    },
    {
      "cell_type": "code",
      "source": [
        "def expand_contractions(text):\n",
        "    contractions = {\n",
        "        \"n't\": \"not\",\n",
        "        \"'ve\": \"have\",\n",
        "        \"'ll\": \"will\",\n",
        "        \"'d\": \"would\",\n",
        "        \"'re\": \"are\",\n",
        "        \"'s\": \"is\",\n",
        "        \"'m\": \"am\"\n",
        "    }\n",
        "    pattern = re.compile(r\"\\b(?:\" + \"|\".join(contractions.keys()) + r\")\\b\")\n",
        "    return pattern.sub(lambda match: contractions[match.group(0)], text)\n",
        "\n",
        "# Function to remove special characters\n",
        "def remove_special_characters(text):\n",
        "    special_characters_pattern = re.compile(r\"[#%@\\<>{}()=\\[\\]*\\-\\\\|_½]\")\n",
        "    return special_characters_pattern.sub(\"\", text)\n",
        "\n",
        "\n",
        "def preprocess_text(text):\n",
        "    text = expand_contractions(text)\n",
        "    text = remove_special_characters(text)\n",
        "\n",
        "    tokens = nltk.word_tokenize(text)\n",
        "\n",
        "    lemmatizer = nltk.stem.WordNetLemmatizer()\n",
        "    lemmatized_tokens = [lemmatizer.lemmatize(token) for token in tokens]\n",
        "    lemmatized_tokens = [token.lower() for token in lemmatized_tokens]\n",
        "\n",
        "    stop_words = set(nltk.corpus.stopwords.words('english'))\n",
        "    filtered_tokens = [token for token in lemmatized_tokens if token not in stop_words]\n",
        "\n",
        "    return filtered_tokens\n",
        "\n",
        "df['text'] = df['text'].apply(preprocess_text)"
      ],
      "metadata": {
        "colab": {
          "base_uri": "https://localhost:8080/"
        },
        "id": "fKF4GiTOOH6N",
        "outputId": "c144fb7f-ac30-44ff-bda2-d552365f6379"
      },
      "execution_count": 13,
      "outputs": [
        {
          "output_type": "stream",
          "name": "stderr",
          "text": [
            "<ipython-input-13-f1f03507685a>:35: SettingWithCopyWarning: \n",
            "A value is trying to be set on a copy of a slice from a DataFrame.\n",
            "Try using .loc[row_indexer,col_indexer] = value instead\n",
            "\n",
            "See the caveats in the documentation: https://pandas.pydata.org/pandas-docs/stable/user_guide/indexing.html#returning-a-view-versus-a-copy\n",
            "  df['text'] = df['text'].apply(preprocess_text)\n"
          ]
        }
      ]
    },
    {
      "cell_type": "code",
      "source": [
        "df.head()"
      ],
      "metadata": {
        "colab": {
          "base_uri": "https://localhost:8080/",
          "height": 206
        },
        "id": "IX05_YMVOtWx",
        "outputId": "349f7e98-5764-48e9-dc2b-b7702a17d813"
      },
      "execution_count": 14,
      "outputs": [
        {
          "output_type": "execute_result",
          "data": {
            "text/plain": [
              "                                                text label\n",
              "0  [pentagon, upgrading, gps, sniper, atp, bahrai...   AVI\n",
              "1  [search, continues, japanese, air, selfdefense...   MIS\n",
              "2  [recent, photo, hill, afb, f35s, deployed, kad...   COC\n",
              "3  [kfx, :, south, korea, wants, build, fighter, ...   MIS\n",
              "4  [army, aviation, missile, command, awarded, si...   AVI"
            ],
            "text/html": [
              "\n",
              "  <div id=\"df-d10e294a-4660-4795-967c-680d6f109978\" class=\"colab-df-container\">\n",
              "    <div>\n",
              "<style scoped>\n",
              "    .dataframe tbody tr th:only-of-type {\n",
              "        vertical-align: middle;\n",
              "    }\n",
              "\n",
              "    .dataframe tbody tr th {\n",
              "        vertical-align: top;\n",
              "    }\n",
              "\n",
              "    .dataframe thead th {\n",
              "        text-align: right;\n",
              "    }\n",
              "</style>\n",
              "<table border=\"1\" class=\"dataframe\">\n",
              "  <thead>\n",
              "    <tr style=\"text-align: right;\">\n",
              "      <th></th>\n",
              "      <th>text</th>\n",
              "      <th>label</th>\n",
              "    </tr>\n",
              "  </thead>\n",
              "  <tbody>\n",
              "    <tr>\n",
              "      <th>0</th>\n",
              "      <td>[pentagon, upgrading, gps, sniper, atp, bahrai...</td>\n",
              "      <td>AVI</td>\n",
              "    </tr>\n",
              "    <tr>\n",
              "      <th>1</th>\n",
              "      <td>[search, continues, japanese, air, selfdefense...</td>\n",
              "      <td>MIS</td>\n",
              "    </tr>\n",
              "    <tr>\n",
              "      <th>2</th>\n",
              "      <td>[recent, photo, hill, afb, f35s, deployed, kad...</td>\n",
              "      <td>COC</td>\n",
              "    </tr>\n",
              "    <tr>\n",
              "      <th>3</th>\n",
              "      <td>[kfx, :, south, korea, wants, build, fighter, ...</td>\n",
              "      <td>MIS</td>\n",
              "    </tr>\n",
              "    <tr>\n",
              "      <th>4</th>\n",
              "      <td>[army, aviation, missile, command, awarded, si...</td>\n",
              "      <td>AVI</td>\n",
              "    </tr>\n",
              "  </tbody>\n",
              "</table>\n",
              "</div>\n",
              "    <div class=\"colab-df-buttons\">\n",
              "\n",
              "  <div class=\"colab-df-container\">\n",
              "    <button class=\"colab-df-convert\" onclick=\"convertToInteractive('df-d10e294a-4660-4795-967c-680d6f109978')\"\n",
              "            title=\"Convert this dataframe to an interactive table.\"\n",
              "            style=\"display:none;\">\n",
              "\n",
              "  <svg xmlns=\"http://www.w3.org/2000/svg\" height=\"24px\" viewBox=\"0 -960 960 960\">\n",
              "    <path d=\"M120-120v-720h720v720H120Zm60-500h600v-160H180v160Zm220 220h160v-160H400v160Zm0 220h160v-160H400v160ZM180-400h160v-160H180v160Zm440 0h160v-160H620v160ZM180-180h160v-160H180v160Zm440 0h160v-160H620v160Z\"/>\n",
              "  </svg>\n",
              "    </button>\n",
              "\n",
              "  <style>\n",
              "    .colab-df-container {\n",
              "      display:flex;\n",
              "      gap: 12px;\n",
              "    }\n",
              "\n",
              "    .colab-df-convert {\n",
              "      background-color: #E8F0FE;\n",
              "      border: none;\n",
              "      border-radius: 50%;\n",
              "      cursor: pointer;\n",
              "      display: none;\n",
              "      fill: #1967D2;\n",
              "      height: 32px;\n",
              "      padding: 0 0 0 0;\n",
              "      width: 32px;\n",
              "    }\n",
              "\n",
              "    .colab-df-convert:hover {\n",
              "      background-color: #E2EBFA;\n",
              "      box-shadow: 0px 1px 2px rgba(60, 64, 67, 0.3), 0px 1px 3px 1px rgba(60, 64, 67, 0.15);\n",
              "      fill: #174EA6;\n",
              "    }\n",
              "\n",
              "    .colab-df-buttons div {\n",
              "      margin-bottom: 4px;\n",
              "    }\n",
              "\n",
              "    [theme=dark] .colab-df-convert {\n",
              "      background-color: #3B4455;\n",
              "      fill: #D2E3FC;\n",
              "    }\n",
              "\n",
              "    [theme=dark] .colab-df-convert:hover {\n",
              "      background-color: #434B5C;\n",
              "      box-shadow: 0px 1px 3px 1px rgba(0, 0, 0, 0.15);\n",
              "      filter: drop-shadow(0px 1px 2px rgba(0, 0, 0, 0.3));\n",
              "      fill: #FFFFFF;\n",
              "    }\n",
              "  </style>\n",
              "\n",
              "    <script>\n",
              "      const buttonEl =\n",
              "        document.querySelector('#df-d10e294a-4660-4795-967c-680d6f109978 button.colab-df-convert');\n",
              "      buttonEl.style.display =\n",
              "        google.colab.kernel.accessAllowed ? 'block' : 'none';\n",
              "\n",
              "      async function convertToInteractive(key) {\n",
              "        const element = document.querySelector('#df-d10e294a-4660-4795-967c-680d6f109978');\n",
              "        const dataTable =\n",
              "          await google.colab.kernel.invokeFunction('convertToInteractive',\n",
              "                                                    [key], {});\n",
              "        if (!dataTable) return;\n",
              "\n",
              "        const docLinkHtml = 'Like what you see? Visit the ' +\n",
              "          '<a target=\"_blank\" href=https://colab.research.google.com/notebooks/data_table.ipynb>data table notebook</a>'\n",
              "          + ' to learn more about interactive tables.';\n",
              "        element.innerHTML = '';\n",
              "        dataTable['output_type'] = 'display_data';\n",
              "        await google.colab.output.renderOutput(dataTable, element);\n",
              "        const docLink = document.createElement('div');\n",
              "        docLink.innerHTML = docLinkHtml;\n",
              "        element.appendChild(docLink);\n",
              "      }\n",
              "    </script>\n",
              "  </div>\n",
              "\n",
              "\n",
              "<div id=\"df-6c69362e-796e-4b22-99ed-6e3784456e85\">\n",
              "  <button class=\"colab-df-quickchart\" onclick=\"quickchart('df-6c69362e-796e-4b22-99ed-6e3784456e85')\"\n",
              "            title=\"Suggest charts.\"\n",
              "            style=\"display:none;\">\n",
              "\n",
              "<svg xmlns=\"http://www.w3.org/2000/svg\" height=\"24px\"viewBox=\"0 0 24 24\"\n",
              "     width=\"24px\">\n",
              "    <g>\n",
              "        <path d=\"M19 3H5c-1.1 0-2 .9-2 2v14c0 1.1.9 2 2 2h14c1.1 0 2-.9 2-2V5c0-1.1-.9-2-2-2zM9 17H7v-7h2v7zm4 0h-2V7h2v10zm4 0h-2v-4h2v4z\"/>\n",
              "    </g>\n",
              "</svg>\n",
              "  </button>\n",
              "\n",
              "<style>\n",
              "  .colab-df-quickchart {\n",
              "      --bg-color: #E8F0FE;\n",
              "      --fill-color: #1967D2;\n",
              "      --hover-bg-color: #E2EBFA;\n",
              "      --hover-fill-color: #174EA6;\n",
              "      --disabled-fill-color: #AAA;\n",
              "      --disabled-bg-color: #DDD;\n",
              "  }\n",
              "\n",
              "  [theme=dark] .colab-df-quickchart {\n",
              "      --bg-color: #3B4455;\n",
              "      --fill-color: #D2E3FC;\n",
              "      --hover-bg-color: #434B5C;\n",
              "      --hover-fill-color: #FFFFFF;\n",
              "      --disabled-bg-color: #3B4455;\n",
              "      --disabled-fill-color: #666;\n",
              "  }\n",
              "\n",
              "  .colab-df-quickchart {\n",
              "    background-color: var(--bg-color);\n",
              "    border: none;\n",
              "    border-radius: 50%;\n",
              "    cursor: pointer;\n",
              "    display: none;\n",
              "    fill: var(--fill-color);\n",
              "    height: 32px;\n",
              "    padding: 0;\n",
              "    width: 32px;\n",
              "  }\n",
              "\n",
              "  .colab-df-quickchart:hover {\n",
              "    background-color: var(--hover-bg-color);\n",
              "    box-shadow: 0 1px 2px rgba(60, 64, 67, 0.3), 0 1px 3px 1px rgba(60, 64, 67, 0.15);\n",
              "    fill: var(--button-hover-fill-color);\n",
              "  }\n",
              "\n",
              "  .colab-df-quickchart-complete:disabled,\n",
              "  .colab-df-quickchart-complete:disabled:hover {\n",
              "    background-color: var(--disabled-bg-color);\n",
              "    fill: var(--disabled-fill-color);\n",
              "    box-shadow: none;\n",
              "  }\n",
              "\n",
              "  .colab-df-spinner {\n",
              "    border: 2px solid var(--fill-color);\n",
              "    border-color: transparent;\n",
              "    border-bottom-color: var(--fill-color);\n",
              "    animation:\n",
              "      spin 1s steps(1) infinite;\n",
              "  }\n",
              "\n",
              "  @keyframes spin {\n",
              "    0% {\n",
              "      border-color: transparent;\n",
              "      border-bottom-color: var(--fill-color);\n",
              "      border-left-color: var(--fill-color);\n",
              "    }\n",
              "    20% {\n",
              "      border-color: transparent;\n",
              "      border-left-color: var(--fill-color);\n",
              "      border-top-color: var(--fill-color);\n",
              "    }\n",
              "    30% {\n",
              "      border-color: transparent;\n",
              "      border-left-color: var(--fill-color);\n",
              "      border-top-color: var(--fill-color);\n",
              "      border-right-color: var(--fill-color);\n",
              "    }\n",
              "    40% {\n",
              "      border-color: transparent;\n",
              "      border-right-color: var(--fill-color);\n",
              "      border-top-color: var(--fill-color);\n",
              "    }\n",
              "    60% {\n",
              "      border-color: transparent;\n",
              "      border-right-color: var(--fill-color);\n",
              "    }\n",
              "    80% {\n",
              "      border-color: transparent;\n",
              "      border-right-color: var(--fill-color);\n",
              "      border-bottom-color: var(--fill-color);\n",
              "    }\n",
              "    90% {\n",
              "      border-color: transparent;\n",
              "      border-bottom-color: var(--fill-color);\n",
              "    }\n",
              "  }\n",
              "</style>\n",
              "\n",
              "  <script>\n",
              "    async function quickchart(key) {\n",
              "      const quickchartButtonEl =\n",
              "        document.querySelector('#' + key + ' button');\n",
              "      quickchartButtonEl.disabled = true;  // To prevent multiple clicks.\n",
              "      quickchartButtonEl.classList.add('colab-df-spinner');\n",
              "      try {\n",
              "        const charts = await google.colab.kernel.invokeFunction(\n",
              "            'suggestCharts', [key], {});\n",
              "      } catch (error) {\n",
              "        console.error('Error during call to suggestCharts:', error);\n",
              "      }\n",
              "      quickchartButtonEl.classList.remove('colab-df-spinner');\n",
              "      quickchartButtonEl.classList.add('colab-df-quickchart-complete');\n",
              "    }\n",
              "    (() => {\n",
              "      let quickchartButtonEl =\n",
              "        document.querySelector('#df-6c69362e-796e-4b22-99ed-6e3784456e85 button');\n",
              "      quickchartButtonEl.style.display =\n",
              "        google.colab.kernel.accessAllowed ? 'block' : 'none';\n",
              "    })();\n",
              "  </script>\n",
              "</div>\n",
              "    </div>\n",
              "  </div>\n"
            ]
          },
          "metadata": {},
          "execution_count": 14
        }
      ]
    },
    {
      "cell_type": "code",
      "source": [
        "import time\n",
        "from sklearn.model_selection import train_test_split\n",
        "from sklearn.feature_extraction.text import TfidfVectorizer\n",
        "from sklearn.metrics import classification_report, accuracy_score, precision_score, recall_score, f1_score, confusion_matrix"
      ],
      "metadata": {
        "id": "SKCoUOA2QHkI"
      },
      "execution_count": 15,
      "outputs": []
    },
    {
      "cell_type": "code",
      "source": [
        "X_train, X_test, y_train, y_test = train_test_split(df['text'], df['label'], test_size=0.1, random_state=42)\n",
        "\n",
        "X_train = [' '.join(tokens) for tokens in X_train]\n",
        "X_test = [' '.join(tokens) for tokens in X_test]\n",
        "\n",
        "tfidf_vectorizer = TfidfVectorizer(max_features=20000)\n",
        "X_train_tfidf = tfidf_vectorizer.fit_transform(X_train)\n",
        "X_test_tfidf = tfidf_vectorizer.transform(X_test)"
      ],
      "metadata": {
        "id": "XLKTZgWaUj1H"
      },
      "execution_count": 16,
      "outputs": []
    },
    {
      "cell_type": "code",
      "source": [
        "from sklearn.naive_bayes import MultinomialNB\n",
        "\n",
        "nb_model = MultinomialNB()\n",
        "\n",
        "start = time.time()\n",
        "nb_model.fit(X_train_tfidf, y_train)\n",
        "y_pred_nb = nb_model.predict(X_test_tfidf)\n",
        "end = time.time()\n",
        "\n",
        "report = classification_report(y_test, y_pred_nb)\n",
        "\n",
        "print(f\"MultinomialNB Execution Time: {end-start}\")\n",
        "print(\"MultinomialNB Accuracy:\", accuracy_score(y_test, y_pred_nb))\n",
        "# print(f\"MultinomialNB Macro Precision: {report['macro avg']['precision']}\")\n",
        "# print(f\"MultinomialNB Macro Recall: {report['macro avg']['recall']}\")\n",
        "print(report)"
      ],
      "metadata": {
        "colab": {
          "base_uri": "https://localhost:8080/"
        },
        "id": "kzc9FAIIQMAS",
        "outputId": "6e0a5362-b86f-4a92-8b18-f27cec4d72a5"
      },
      "execution_count": 17,
      "outputs": [
        {
          "output_type": "stream",
          "name": "stdout",
          "text": [
            "MultinomialNB Execution Time: 0.16619420051574707\n",
            "MultinomialNB Accuracy: 0.4954480114997604\n",
            "              precision    recall  f1-score   support\n",
            "\n",
            "         AVI       0.46      0.87      0.60       756\n",
            "         COC       0.65      0.07      0.12       199\n",
            "         ECS       0.00      0.00      0.00         5\n",
            "         ELC       0.00      0.00      0.00         3\n",
            "         FFC       0.00      0.00      0.00        14\n",
            "         FLC       0.53      0.20      0.29        46\n",
            "         FLU       0.00      0.00      0.00         2\n",
            "         LAG       0.00      0.00      0.00        11\n",
            "         MEC       0.00      0.00      0.00        11\n",
            "         MIS       0.47      0.36      0.41       426\n",
            "         OTH       0.72      0.43      0.54       428\n",
            "         PRP       1.00      0.03      0.06        33\n",
            "         WEA       0.71      0.12      0.20       142\n",
            "         WIN       0.00      0.00      0.00        11\n",
            "\n",
            "    accuracy                           0.50      2087\n",
            "   macro avg       0.32      0.15      0.16      2087\n",
            "weighted avg       0.55      0.50      0.44      2087\n",
            "\n"
          ]
        },
        {
          "output_type": "stream",
          "name": "stderr",
          "text": [
            "/usr/local/lib/python3.10/dist-packages/sklearn/metrics/_classification.py:1344: UndefinedMetricWarning: Precision and F-score are ill-defined and being set to 0.0 in labels with no predicted samples. Use `zero_division` parameter to control this behavior.\n",
            "  _warn_prf(average, modifier, msg_start, len(result))\n",
            "/usr/local/lib/python3.10/dist-packages/sklearn/metrics/_classification.py:1344: UndefinedMetricWarning: Precision and F-score are ill-defined and being set to 0.0 in labels with no predicted samples. Use `zero_division` parameter to control this behavior.\n",
            "  _warn_prf(average, modifier, msg_start, len(result))\n",
            "/usr/local/lib/python3.10/dist-packages/sklearn/metrics/_classification.py:1344: UndefinedMetricWarning: Precision and F-score are ill-defined and being set to 0.0 in labels with no predicted samples. Use `zero_division` parameter to control this behavior.\n",
            "  _warn_prf(average, modifier, msg_start, len(result))\n"
          ]
        }
      ]
    },
    {
      "cell_type": "code",
      "source": [
        "from sklearn.linear_model import LogisticRegression\n",
        "\n",
        "lr_model = LogisticRegression(max_iter=20000)\n",
        "\n",
        "start = time.time()\n",
        "lr_model.fit(X_train_tfidf, y_train)\n",
        "y_pred_lr = lr_model.predict(X_test_tfidf)\n",
        "end = time.time()\n",
        "\n",
        "report = classification_report(y_test, y_pred_lr)\n",
        "\n",
        "print(f\"Logistic Regression Execution Time: {end-start}\")\n",
        "print(\"Logistic Regression Accuracy:\", accuracy_score(y_test, y_pred_lr))\n",
        "# print(f\"Logistic Regression Macro Precision: {report['macro avg']['precision']}\")\n",
        "# print(f\"Logistic Regression Macro Recall: {report['macro avg']['recall']}\")\n",
        "print(report)"
      ],
      "metadata": {
        "colab": {
          "base_uri": "https://localhost:8080/"
        },
        "id": "jc-TAXrKUTEj",
        "outputId": "abff0d7f-a165-46f0-86d9-3885e0c0e3e4"
      },
      "execution_count": 18,
      "outputs": [
        {
          "output_type": "stream",
          "name": "stdout",
          "text": [
            "Logistic Regression Execution Time: 71.61025476455688\n",
            "Logistic Regression Accuracy: 0.5816962146621946\n",
            "              precision    recall  f1-score   support\n",
            "\n",
            "         AVI       0.55      0.76      0.64       756\n",
            "         COC       0.63      0.24      0.34       199\n",
            "         ECS       0.00      0.00      0.00         5\n",
            "         ELC       0.00      0.00      0.00         3\n",
            "         FFC       1.00      0.07      0.13        14\n",
            "         FLC       0.71      0.37      0.49        46\n",
            "         FLU       0.00      0.00      0.00         2\n",
            "         LAG       0.75      0.27      0.40        11\n",
            "         MEC       0.00      0.00      0.00        11\n",
            "         MIS       0.55      0.47      0.51       426\n",
            "         OTH       0.66      0.65      0.65       428\n",
            "         PRP       0.87      0.39      0.54        33\n",
            "         WEA       0.64      0.54      0.58       142\n",
            "         WIN       0.00      0.00      0.00        11\n",
            "\n",
            "    accuracy                           0.58      2087\n",
            "   macro avg       0.45      0.27      0.31      2087\n",
            "weighted avg       0.59      0.58      0.56      2087\n",
            "\n"
          ]
        },
        {
          "output_type": "stream",
          "name": "stderr",
          "text": [
            "/usr/local/lib/python3.10/dist-packages/sklearn/metrics/_classification.py:1344: UndefinedMetricWarning: Precision and F-score are ill-defined and being set to 0.0 in labels with no predicted samples. Use `zero_division` parameter to control this behavior.\n",
            "  _warn_prf(average, modifier, msg_start, len(result))\n",
            "/usr/local/lib/python3.10/dist-packages/sklearn/metrics/_classification.py:1344: UndefinedMetricWarning: Precision and F-score are ill-defined and being set to 0.0 in labels with no predicted samples. Use `zero_division` parameter to control this behavior.\n",
            "  _warn_prf(average, modifier, msg_start, len(result))\n",
            "/usr/local/lib/python3.10/dist-packages/sklearn/metrics/_classification.py:1344: UndefinedMetricWarning: Precision and F-score are ill-defined and being set to 0.0 in labels with no predicted samples. Use `zero_division` parameter to control this behavior.\n",
            "  _warn_prf(average, modifier, msg_start, len(result))\n"
          ]
        }
      ]
    },
    {
      "cell_type": "code",
      "source": [
        "from sklearn.svm import LinearSVC\n",
        "svm_model = LinearSVC()\n",
        "\n",
        "start = time.time()\n",
        "svm_model.fit(X_train_tfidf, y_train)\n",
        "y_pred_svm = svm_model.predict(X_test_tfidf)\n",
        "end = time.time()\n",
        "\n",
        "report = classification_report(y_test, y_pred_svm)\n",
        "\n",
        "print(f\"Linear SVM Execution Time: {end-start}\")\n",
        "print(\"Linear SVM Accuracy:\", accuracy_score(y_test, y_pred_svm))\n",
        "# print(f\"Linear SVM Macro Precision: {report['macro avg']['precision']}\")\n",
        "# print(f\"Linear SVM Macro Recall: {report['macro avg']['recall']}\")\n",
        "print(report)"
      ],
      "metadata": {
        "colab": {
          "base_uri": "https://localhost:8080/"
        },
        "id": "ggPakod3UN0A",
        "outputId": "7e34b2e1-7f39-4063-ea05-96d4f373053f"
      },
      "execution_count": 19,
      "outputs": [
        {
          "output_type": "stream",
          "name": "stdout",
          "text": [
            "Linear SVM Execution Time: 9.486808061599731\n",
            "Linear SVM Accuracy: 0.5654048873981792\n",
            "              precision    recall  f1-score   support\n",
            "\n",
            "         AVI       0.56      0.67      0.61       756\n",
            "         COC       0.49      0.27      0.35       199\n",
            "         ECS       0.00      0.00      0.00         5\n",
            "         ELC       0.00      0.00      0.00         3\n",
            "         FFC       0.43      0.21      0.29        14\n",
            "         FLC       0.49      0.41      0.45        46\n",
            "         FLU       0.00      0.00      0.00         2\n",
            "         LAG       0.36      0.36      0.36        11\n",
            "         MEC       0.00      0.00      0.00        11\n",
            "         MIS       0.54      0.49      0.51       426\n",
            "         OTH       0.62      0.64      0.63       428\n",
            "         PRP       0.71      0.52      0.60        33\n",
            "         WEA       0.61      0.63      0.62       142\n",
            "         WIN       0.75      0.27      0.40        11\n",
            "\n",
            "    accuracy                           0.57      2087\n",
            "   macro avg       0.40      0.32      0.34      2087\n",
            "weighted avg       0.56      0.57      0.56      2087\n",
            "\n"
          ]
        }
      ]
    },
    {
      "cell_type": "code",
      "source": [
        "from sklearn.ensemble import RandomForestClassifier\n",
        "\n",
        "rf_model = RandomForestClassifier(n_estimators=100, random_state=42)\n",
        "\n",
        "start = time.time()\n",
        "rf_model.fit(X_train_tfidf, y_train)\n",
        "y_pred_rf = rf_model.predict(X_test_tfidf)\n",
        "end = time.time()\n",
        "\n",
        "report = classification_report(y_test, y_pred_rf)\n",
        "\n",
        "print(f\"Random Forest Execution Time: {end-start}\")\n",
        "print(\"Random Forest Accuracy:\", accuracy_score(y_test, y_pred_rf))\n",
        "# print(f\"Random Forest Macro Precision: {report['macro avg']['precision']}\")\n",
        "# print(f\"Random Forest Macro Recall: {report['macro avg']['recall']}\")\n",
        "print(report)"
      ],
      "metadata": {
        "colab": {
          "base_uri": "https://localhost:8080/"
        },
        "id": "x9zzz6ZxTqj_",
        "outputId": "af930586-7000-4224-fdbe-761e08a7dc25"
      },
      "execution_count": 25,
      "outputs": [
        {
          "output_type": "stream",
          "name": "stdout",
          "text": [
            "Random Forest Execution Time: 541.7447595596313\n",
            "Random Forest Accuracy: 0.5342597029228557\n",
            "              precision    recall  f1-score   support\n",
            "\n",
            "         AVI       0.49      0.81      0.61       756\n",
            "         COC       0.49      0.13      0.21       199\n",
            "         ECS       0.00      0.00      0.00         5\n",
            "         ELC       0.00      0.00      0.00         3\n",
            "         FFC       0.50      0.29      0.36        14\n",
            "         FLC       0.42      0.35      0.38        46\n",
            "         FLU       0.00      0.00      0.00         2\n",
            "         LAG       0.17      0.09      0.12        11\n",
            "         MEC       0.00      0.00      0.00        11\n",
            "         MIS       0.59      0.36      0.45       426\n",
            "         OTH       0.67      0.54      0.60       428\n",
            "         PRP       0.61      0.33      0.43        33\n",
            "         WEA       0.67      0.44      0.53       142\n",
            "         WIN       0.67      0.18      0.29        11\n",
            "\n",
            "    accuracy                           0.53      2087\n",
            "   macro avg       0.38      0.25      0.28      2087\n",
            "weighted avg       0.55      0.53      0.51      2087\n",
            "\n"
          ]
        }
      ]
    }
  ],
  "metadata": {
    "colab": {
      "name": "Welcome To Colaboratory",
      "provenance": []
    },
    "kernelspec": {
      "display_name": "Python 3",
      "name": "python3"
    }
  },
  "nbformat": 4,
  "nbformat_minor": 0
}