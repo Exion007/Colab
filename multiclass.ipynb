{
  "cells": [
    {
      "cell_type": "markdown",
      "metadata": {
        "id": "view-in-github",
        "colab_type": "text"
      },
      "source": [
        "<a href=\"https://colab.research.google.com/github/Exion007/Colab/blob/main/multiclass.ipynb\" target=\"_parent\"><img src=\"https://colab.research.google.com/assets/colab-badge.svg\" alt=\"Open In Colab\"/></a>"
      ]
    },
    {
      "cell_type": "code",
      "source": [
        "import pandas as pd\n",
        "from sklearn.model_selection import train_test_split\n",
        "from sklearn.feature_extraction.text import Tokenizer\n",
        "from sklearn.preprocessing import LabelEncoder\n",
        "from keras.preprocessing.sequence import pad_sequences\n",
        "from keras.models import Sequential\n",
        "from keras.layers import Embedding, LSTM, Dense\n",
        "from sklearn.metrics import accuracy_score, classification_report"
      ],
      "metadata": {
        "id": "09HHNQLt14Pi"
      },
      "execution_count": null,
      "outputs": []
    },
    {
      "cell_type": "code",
      "source": [
        "rawdf = pd.read_csv('merged_ls_200923.csv', engine=\"python\", on_bad_lines=\"skip\")\n",
        "rawdf.dropna(inplace=True)\n",
        "\n",
        "rawdf.info()"
      ],
      "metadata": {
        "id": "O5AKGtIb1zyx"
      },
      "execution_count": null,
      "outputs": []
    },
    {
      "cell_type": "code",
      "source": [
        "labels = ['AVI', 'MIS', 'OTH', 'WIN', 'WEA',\n",
        "           'COC', 'PRP', 'MEC', 'ELC', 'LAG',\n",
        "           'FLC', 'FFC', 'ECS', 'FLU']\n",
        "\n",
        "def filter_by_label(df):\n",
        "  filtered_df = rawdf[rawdf['label'].apply(lambda x: isinstance(x, str) and x in labels)]\n",
        "  return filtered_df\n",
        "\n",
        "df = filter_by_label(rawdf)"
      ],
      "metadata": {
        "id": "-1zfdwd92XwE"
      },
      "execution_count": null,
      "outputs": []
    },
    {
      "cell_type": "code",
      "source": [
        "df.info()"
      ],
      "metadata": {
        "id": "swaD2r1W2Wy5"
      },
      "execution_count": null,
      "outputs": []
    },
    {
      "cell_type": "code",
      "source": [
        "X_train, X_test, y_train, y_test = train_test_split(df['text'], df['label'], test_size=0.2, random_state=42)\n",
        "\n",
        "max_vocab_size = 10000\n",
        "tokenizer = Tokenizer(num_words=max_vocab_size)\n",
        "tokenizer.fit_on_texts(X_train)\n",
        "X_train_seq = tokenizer.texts_to_sequences(X_train)\n",
        "X_test_seq = tokenizer.texts_to_sequences(X_test)\n",
        "\n",
        "\n",
        "max_seq_length = 100\n",
        "X_train_padded = pad_sequences(X_train_seq, maxlen=max_seq_length)\n",
        "X_test_padded = pad_sequences(X_test_seq, maxlen=max_seq_length)\n",
        "\n",
        "\n",
        "label_encoder = LabelEncoder()\n",
        "y_train_encoded = label_encoder.fit_transform(y_train)\n",
        "y_test_encoded = label_encoder.transform(y_test)\n",
        "\n",
        "embedding_dim = 100\n",
        "num_classes = len(label_encoder.classes_)"
      ],
      "metadata": {
        "id": "E48yPqUt1l9F"
      },
      "execution_count": null,
      "outputs": []
    },
    {
      "cell_type": "code",
      "source": [
        "model = Sequential()\n",
        "model.add(Embedding(input_dim=max_vocab_size, output_dim=embedding_dim, input_length=max_seq_length))\n",
        "model.add(LSTM(128))\n",
        "model.add(Dense(num_classes, activation='softmax'))\n",
        "\n",
        "model.compile(loss='sparse_categorical_crossentropy', optimizer='adam', metrics=['accuracy'])\n",
        "\n",
        "batch_size = 32\n",
        "num_epochs = 10\n",
        "model.fit(X_train_padded, y_train_encoded, epochs=num_epochs, batch_size=batch_size, validation_data=(X_test_padded, y_test_encoded))\n",
        "\n",
        "y_pred_encoded = model.predict_classes(X_test_padded)\n",
        "y_pred = label_encoder.inverse_transform(y_pred_encoded)"
      ],
      "metadata": {
        "id": "zSM1k4H716_s"
      },
      "execution_count": null,
      "outputs": []
    },
    {
      "cell_type": "code",
      "source": [
        "accuracy = accuracy_score(y_test, y_pred)\n",
        "print(\"Accuracy:\", accuracy)\n",
        "print(classification_report(y_test, y_pred))"
      ],
      "metadata": {
        "id": "Ma4Sq_r62IBY"
      },
      "execution_count": null,
      "outputs": []
    }
  ],
  "metadata": {
    "colab": {
      "name": "Welcome To Colaboratory",
      "provenance": [],
      "include_colab_link": true
    },
    "kernelspec": {
      "display_name": "Python 3",
      "name": "python3"
    }
  },
  "nbformat": 4,
  "nbformat_minor": 0
}