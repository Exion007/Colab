{
  "cells": [
    {
      "cell_type": "markdown",
      "metadata": {
        "id": "view-in-github",
        "colab_type": "text"
      },
      "source": [
        "<a href=\"https://colab.research.google.com/github/Exion007/Colab/blob/main/multiclass.ipynb\" target=\"_parent\"><img src=\"https://colab.research.google.com/assets/colab-badge.svg\" alt=\"Open In Colab\"/></a>"
      ]
    },
    {
      "cell_type": "code",
      "source": [
        "import re\n",
        "import pandas as pd\n",
        "import numpy as np\n",
        "\n",
        "from sklearn.model_selection import train_test_split\n",
        "from keras.preprocessing.text import Tokenizer\n",
        "from keras.preprocessing.sequence import pad_sequences\n",
        "from keras.models import Sequential\n",
        "from keras.layers import Embedding, LSTM, Dense\n",
        "from sklearn.preprocessing import LabelEncoder\n",
        "from sklearn.metrics import accuracy_score, classification_report"
      ],
      "metadata": {
        "id": "09HHNQLt14Pi"
      },
      "execution_count": 1,
      "outputs": []
    },
    {
      "cell_type": "code",
      "source": [
        "rawdf = pd.read_csv('file2.csv', engine=\"python\", on_bad_lines=\"skip\")\n",
        "rawdf.dropna(inplace=True)\n",
        "\n",
        "rawdf.info()"
      ],
      "metadata": {
        "colab": {
          "base_uri": "https://localhost:8080/"
        },
        "id": "O5AKGtIb1zyx",
        "outputId": "8c985ae0-11a6-4486-cadb-d98e58657264"
      },
      "execution_count": 2,
      "outputs": [
        {
          "output_type": "stream",
          "name": "stdout",
          "text": [
            "<class 'pandas.core.frame.DataFrame'>\n",
            "Int64Index: 6345 entries, 0 to 8510\n",
            "Data columns (total 2 columns):\n",
            " #   Column  Non-Null Count  Dtype \n",
            "---  ------  --------------  ----- \n",
            " 0   text    6345 non-null   object\n",
            " 1   label   6345 non-null   object\n",
            "dtypes: object(2)\n",
            "memory usage: 148.7+ KB\n"
          ]
        }
      ]
    },
    {
      "cell_type": "code",
      "source": [
        "labels = ['AVI', 'MIS', 'OTH', 'WIN', 'WEA',\n",
        "           'COC', 'PRP', 'MEC', 'ELC', 'LAG',\n",
        "           'FLC', 'FFC', 'ECS', 'FLU']\n",
        "\n",
        "def filter_by_label(df):\n",
        "  filtered_df = rawdf[rawdf['label'].apply(lambda x: isinstance(x, str) and x in labels)]\n",
        "  return filtered_df\n",
        "\n",
        "def expand_contractions(text):\n",
        "    contractions = {\n",
        "        \"n't\": \"not\",\n",
        "        \"'ve\": \"have\",\n",
        "        \"'ll\": \"will\",\n",
        "        \"'d\": \"would\",\n",
        "        \"'re\": \"are\",\n",
        "        \"'s\": \"is\",\n",
        "        \"'m\": \"am\"\n",
        "    }\n",
        "    pattern = re.compile(r\"\\b(?:\" + \"|\".join(contractions.keys()) + r\")\\b\")\n",
        "    return pattern.sub(lambda match: contractions[match.group(0)], text)\n",
        "\n",
        "\n",
        "def remove_special_characters(text):\n",
        "    special_characters_pattern = re.compile(r\"[#%@\\<>{}()=\\[\\]*\\-\\\\|_½]\")\n",
        "    return special_characters_pattern.sub(\"\", text.lower())\n",
        "\n",
        "df = filter_by_label(rawdf)\n",
        "new = df[\"text\"].apply(expand_contractions)\n",
        "df[\"text\"] = new\n",
        "new = df[\"text\"].apply(remove_special_characters)\n",
        "df[\"text\"] = new"
      ],
      "metadata": {
        "id": "-1zfdwd92XwE"
      },
      "execution_count": null,
      "outputs": []
    },
    {
      "cell_type": "code",
      "source": [
        "df.info()"
      ],
      "metadata": {
        "colab": {
          "base_uri": "https://localhost:8080/"
        },
        "id": "swaD2r1W2Wy5",
        "outputId": "988ff569-da99-47f3-d04a-01cb9c664ddb"
      },
      "execution_count": null,
      "outputs": [
        {
          "output_type": "stream",
          "name": "stdout",
          "text": [
            "<class 'pandas.core.frame.DataFrame'>\n",
            "Int64Index: 20867 entries, 0 to 23667\n",
            "Data columns (total 2 columns):\n",
            " #   Column  Non-Null Count  Dtype \n",
            "---  ------  --------------  ----- \n",
            " 0   text    20867 non-null  object\n",
            " 1   label   20867 non-null  object\n",
            "dtypes: object(2)\n",
            "memory usage: 489.1+ KB\n"
          ]
        }
      ]
    },
    {
      "cell_type": "code",
      "source": [
        "X_train, X_test, y_train, y_test = train_test_split(df['text'], df['label'], test_size=0.2, random_state=42)\n",
        "\n",
        "max_vocab_size = 15000\n",
        "tokenizer = Tokenizer(num_words=max_vocab_size)\n",
        "tokenizer.fit_on_texts(X_train)\n",
        "X_train_seq = tokenizer.texts_to_sequences(X_train)\n",
        "X_test_seq = tokenizer.texts_to_sequences(X_test)\n",
        "\n",
        "\n",
        "max_seq_length = 100\n",
        "X_train_padded = pad_sequences(X_train_seq, maxlen=max_seq_length)\n",
        "X_test_padded = pad_sequences(X_test_seq, maxlen=max_seq_length)"
      ],
      "metadata": {
        "id": "E48yPqUt1l9F"
      },
      "execution_count": null,
      "outputs": []
    },
    {
      "cell_type": "code",
      "source": [
        "label_encoder = LabelEncoder()\n",
        "y_train_encoded = label_encoder.fit_transform(y_train)\n",
        "y_test_encoded = label_encoder.transform(y_test)"
      ],
      "metadata": {
        "id": "H-VwcJy8RKpr"
      },
      "execution_count": null,
      "outputs": []
    },
    {
      "cell_type": "code",
      "source": [
        "embedding_dim = 100\n",
        "num_classes = len(df['label'].unique())"
      ],
      "metadata": {
        "id": "WNxx1v0xReC7"
      },
      "execution_count": null,
      "outputs": []
    },
    {
      "cell_type": "code",
      "source": [
        "model = Sequential()\n",
        "model.add(Embedding(input_dim=max_vocab_size, output_dim=embedding_dim, input_length=max_seq_length))\n",
        "model.add(LSTM(128))\n",
        "model.add(Dense(num_classes, activation='softmax'))\n",
        "\n",
        "model.compile(loss='sparse_categorical_crossentropy', optimizer='adam', metrics=['accuracy'])\n",
        "\n",
        "batch_size = 32\n",
        "num_epochs = 20\n",
        "model.fit(X_train_padded, y_train_encoded, epochs=num_epochs, batch_size=batch_size, validation_data=(X_test_padded, y_test_encoded))\n",
        "\n",
        "#y_pred_encoded = model.predict_classes(X_test_padded)"
      ],
      "metadata": {
        "colab": {
          "base_uri": "https://localhost:8080/"
        },
        "id": "zSM1k4H716_s",
        "outputId": "e7893063-f718-49c0-f7ad-bf5568475eb2"
      },
      "execution_count": null,
      "outputs": [
        {
          "output_type": "stream",
          "name": "stdout",
          "text": [
            "Epoch 1/20\n",
            "522/522 [==============================] - 140s 263ms/step - loss: 1.6890 - accuracy: 0.3977 - val_loss: 1.5751 - val_accuracy: 0.4291\n",
            "Epoch 2/20\n",
            "522/522 [==============================] - 115s 219ms/step - loss: 1.4744 - accuracy: 0.4723 - val_loss: 1.5491 - val_accuracy: 0.4360\n",
            "Epoch 3/20\n",
            "522/522 [==============================] - 115s 220ms/step - loss: 1.2909 - accuracy: 0.5460 - val_loss: 1.5717 - val_accuracy: 0.4372\n",
            "Epoch 4/20\n",
            "522/522 [==============================] - 114s 219ms/step - loss: 1.1239 - accuracy: 0.6052 - val_loss: 1.6195 - val_accuracy: 0.4432\n",
            "Epoch 5/20\n",
            "522/522 [==============================] - 112s 215ms/step - loss: 0.9891 - accuracy: 0.6565 - val_loss: 1.7698 - val_accuracy: 0.4415\n",
            "Epoch 6/20\n",
            "522/522 [==============================] - 114s 219ms/step - loss: 0.8670 - accuracy: 0.6968 - val_loss: 1.8005 - val_accuracy: 0.4384\n",
            "Epoch 7/20\n",
            "522/522 [==============================] - 114s 219ms/step - loss: 0.7650 - accuracy: 0.7311 - val_loss: 1.9357 - val_accuracy: 0.4518\n",
            "Epoch 8/20\n",
            "522/522 [==============================] - 115s 220ms/step - loss: 0.6773 - accuracy: 0.7619 - val_loss: 2.1101 - val_accuracy: 0.4473\n",
            "Epoch 9/20\n",
            "522/522 [==============================] - 111s 213ms/step - loss: 0.6076 - accuracy: 0.7812 - val_loss: 2.2081 - val_accuracy: 0.4451\n",
            "Epoch 10/20\n",
            "522/522 [==============================] - 114s 218ms/step - loss: 0.5476 - accuracy: 0.8002 - val_loss: 2.2335 - val_accuracy: 0.4435\n",
            "Epoch 11/20\n",
            "522/522 [==============================] - 114s 219ms/step - loss: 0.5064 - accuracy: 0.8111 - val_loss: 2.3490 - val_accuracy: 0.4456\n",
            "Epoch 12/20\n",
            "522/522 [==============================] - 114s 219ms/step - loss: 0.4736 - accuracy: 0.8218 - val_loss: 2.5144 - val_accuracy: 0.4420\n",
            "Epoch 13/20\n",
            "522/522 [==============================] - 110s 212ms/step - loss: 0.4428 - accuracy: 0.8285 - val_loss: 2.5463 - val_accuracy: 0.4425\n",
            "Epoch 14/20\n",
            "522/522 [==============================] - 114s 219ms/step - loss: 0.4085 - accuracy: 0.8387 - val_loss: 2.6326 - val_accuracy: 0.4418\n",
            "Epoch 15/20\n",
            "522/522 [==============================] - 114s 218ms/step - loss: 0.3924 - accuracy: 0.8419 - val_loss: 2.6086 - val_accuracy: 0.4293\n",
            "Epoch 16/20\n",
            "522/522 [==============================] - 112s 215ms/step - loss: 0.3748 - accuracy: 0.8436 - val_loss: 2.8878 - val_accuracy: 0.4466\n",
            "Epoch 17/20\n",
            "522/522 [==============================] - 114s 218ms/step - loss: 0.3593 - accuracy: 0.8504 - val_loss: 2.8251 - val_accuracy: 0.4423\n",
            "Epoch 18/20\n",
            "522/522 [==============================] - 115s 220ms/step - loss: 0.3517 - accuracy: 0.8523 - val_loss: 2.9526 - val_accuracy: 0.4439\n",
            "Epoch 19/20\n",
            "522/522 [==============================] - 112s 214ms/step - loss: 0.3372 - accuracy: 0.8548 - val_loss: 3.0045 - val_accuracy: 0.4442\n",
            "Epoch 20/20\n",
            "522/522 [==============================] - 112s 215ms/step - loss: 0.3187 - accuracy: 0.8582 - val_loss: 3.1073 - val_accuracy: 0.4564\n"
          ]
        },
        {
          "output_type": "execute_result",
          "data": {
            "text/plain": [
              "<keras.src.callbacks.History at 0x794b8debb6a0>"
            ]
          },
          "metadata": {},
          "execution_count": 62
        }
      ]
    },
    {
      "cell_type": "code",
      "source": [
        "y_pred = model.predict(X_test_padded)\n",
        "y_pred_encoded = np.argmax(y_pred,axis=1)"
      ],
      "metadata": {
        "colab": {
          "base_uri": "https://localhost:8080/"
        },
        "id": "bCY3o_z4aRCx",
        "outputId": "dfe3916d-cf24-4de0-abae-73ccb902931d"
      },
      "execution_count": null,
      "outputs": [
        {
          "output_type": "stream",
          "name": "stdout",
          "text": [
            "131/131 [==============================] - 11s 78ms/step\n"
          ]
        }
      ]
    },
    {
      "cell_type": "code",
      "source": [
        "accuracy = accuracy_score(y_test_encoded, y_pred_encoded)\n",
        "print(\"Accuracy:\", accuracy)\n",
        "print(classification_report(y_test_encoded, y_pred_encoded))"
      ],
      "metadata": {
        "colab": {
          "base_uri": "https://localhost:8080/"
        },
        "id": "Ma4Sq_r62IBY",
        "outputId": "ace2fb0a-1621-4d41-e846-d42504c5b1d9"
      },
      "execution_count": null,
      "outputs": [
        {
          "output_type": "stream",
          "name": "stdout",
          "text": [
            "Accuracy: 0.4563967417345472\n",
            "              precision    recall  f1-score   support\n",
            "\n",
            "           0       0.51      0.63      0.56      1531\n",
            "           1       0.30      0.20      0.24       376\n",
            "           2       0.20      0.12      0.15         8\n",
            "           3       0.00      0.00      0.00         5\n",
            "           4       0.29      0.24      0.26        29\n",
            "           5       0.36      0.34      0.35       103\n",
            "           6       0.00      0.00      0.00         3\n",
            "           7       0.29      0.18      0.22        39\n",
            "           8       0.00      0.00      0.00        23\n",
            "           9       0.41      0.40      0.40       824\n",
            "          10       0.53      0.43      0.47       824\n",
            "          11       0.26      0.27      0.26        73\n",
            "          12       0.40      0.37      0.39       316\n",
            "          13       0.67      0.20      0.31        20\n",
            "\n",
            "    accuracy                           0.46      4174\n",
            "   macro avg       0.30      0.24      0.26      4174\n",
            "weighted avg       0.45      0.46      0.45      4174\n",
            "\n"
          ]
        }
      ]
    }
  ],
  "metadata": {
    "colab": {
      "name": "Welcome To Colaboratory",
      "provenance": [],
      "include_colab_link": true
    },
    "kernelspec": {
      "display_name": "Python 3",
      "name": "python3"
    }
  },
  "nbformat": 4,
  "nbformat_minor": 0
}