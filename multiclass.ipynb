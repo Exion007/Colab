{
  "cells": [
    {
      "cell_type": "markdown",
      "metadata": {
        "id": "view-in-github",
        "colab_type": "text"
      },
      "source": [
        "<a href=\"https://colab.research.google.com/github/Exion007/Colab/blob/main/multiclass.ipynb\" target=\"_parent\"><img src=\"https://colab.research.google.com/assets/colab-badge.svg\" alt=\"Open In Colab\"/></a>"
      ]
    },
    {
      "cell_type": "code",
      "source": [
        "import re\n",
        "import pandas as pd\n",
        "import numpy as np\n",
        "\n",
        "from sklearn.model_selection import train_test_split\n",
        "from keras.preprocessing.text import Tokenizer\n",
        "from keras.preprocessing.sequence import pad_sequences\n",
        "from keras.models import Sequential\n",
        "from keras.layers import Embedding, LSTM, Dense\n",
        "from sklearn.preprocessing import LabelEncoder\n",
        "from sklearn.metrics import accuracy_score, classification_report"
      ],
      "metadata": {
        "id": "09HHNQLt14Pi"
      },
      "execution_count": null,
      "outputs": []
    },
    {
      "cell_type": "code",
      "source": [
        "rawdf = pd.read_csv('file2.csv', engine=\"python\", on_bad_lines=\"skip\")\n",
        "rawdf.dropna(inplace=True)\n",
        "\n",
        "rawdf.info()"
      ],
      "metadata": {
        "colab": {
          "base_uri": "https://localhost:8080/"
        },
        "id": "O5AKGtIb1zyx",
        "outputId": "9d0b33d4-103b-4fa0-cd44-83996ac42c0d"
      },
      "execution_count": null,
      "outputs": [
        {
          "output_type": "stream",
          "name": "stdout",
          "text": [
            "<class 'pandas.core.frame.DataFrame'>\n",
            "Int64Index: 21210 entries, 0 to 23667\n",
            "Data columns (total 2 columns):\n",
            " #   Column  Non-Null Count  Dtype \n",
            "---  ------  --------------  ----- \n",
            " 0   text    21210 non-null  object\n",
            " 1   label   21210 non-null  object\n",
            "dtypes: object(2)\n",
            "memory usage: 497.1+ KB\n"
          ]
        }
      ]
    },
    {
      "cell_type": "code",
      "source": [
        "labels = ['AVI', 'MIS', 'OTH', 'WIN', 'WEA',\n",
        "           'COC', 'PRP', 'MEC', 'ELC', 'LAG',\n",
        "           'FLC', 'FFC', 'ECS', 'FLU']\n",
        "\n",
        "def filter_by_label(df):\n",
        "  filtered_df = rawdf[rawdf['label'].apply(lambda x: isinstance(x, str) and x in labels)]\n",
        "  return filtered_df\n",
        "\n",
        "def expand_contractions(text):\n",
        "    contractions = {\n",
        "        \"n't\": \"not\",\n",
        "        \"'ve\": \"have\",\n",
        "        \"'ll\": \"will\",\n",
        "        \"'d\": \"would\",\n",
        "        \"'re\": \"are\",\n",
        "        \"'s\": \"is\",\n",
        "        \"'m\": \"am\"\n",
        "    }\n",
        "    pattern = re.compile(r\"\\b(?:\" + \"|\".join(contractions.keys()) + r\")\\b\")\n",
        "    return pattern.sub(lambda match: contractions[match.group(0)], text)\n",
        "\n",
        "\n",
        "def remove_special_characters(text):\n",
        "    special_characters_pattern = re.compile(r\"[#%@\\<>{}()=\\[\\]*\\-\\\\|_½]\")\n",
        "    return special_characters_pattern.sub(\"\", text.lower())\n",
        "\n",
        "df = filter_by_label(rawdf)\n",
        "new = df[\"text\"].apply(expand_contractions)\n",
        "df[\"text\"] = new\n",
        "new = df[\"text\"].apply(remove_special_characters)\n",
        "df[\"text\"] = new"
      ],
      "metadata": {
        "colab": {
          "base_uri": "https://localhost:8080/",
          "height": 425
        },
        "id": "-1zfdwd92XwE",
        "outputId": "57e15d6e-816f-4020-8742-e4343a6f1948"
      },
      "execution_count": null,
      "outputs": [
        {
          "output_type": "stream",
          "name": "stderr",
          "text": [
            "<ipython-input-54-d85f75270db5>:29: SettingWithCopyWarning: \n",
            "A value is trying to be set on a copy of a slice from a DataFrame.\n",
            "Try using .loc[row_indexer,col_indexer] = value instead\n",
            "\n",
            "See the caveats in the documentation: https://pandas.pydata.org/pandas-docs/stable/user_guide/indexing.html#returning-a-view-versus-a-copy\n",
            "  df[\"text\"] = new\n",
            "<ipython-input-54-d85f75270db5>:31: SettingWithCopyWarning: \n",
            "A value is trying to be set on a copy of a slice from a DataFrame.\n",
            "Try using .loc[row_indexer,col_indexer] = value instead\n",
            "\n",
            "See the caveats in the documentation: https://pandas.pydata.org/pandas-docs/stable/user_guide/indexing.html#returning-a-view-versus-a-copy\n",
            "  df[\"text\"] = new\n"
          ]
        },
        {
          "output_type": "execute_result",
          "data": {
            "text/plain": [
              "                                                text label\n",
              "0  the pentagon is upgrading its gps  sniper atp ...   AVI\n",
              "1  the search continues for a japanese air selfde...   MIS\n",
              "2  some recent photos of the hill afb f35s deploy...   COC\n",
              "3  kfx: south korea wants to build its very own f...   MIS\n",
              "4  the army aviation and missile command awarded ...   AVI"
            ],
            "text/html": [
              "\n",
              "  <div id=\"df-5b4f9d8f-ca00-4d4e-b9a2-570cb5a5ec20\" class=\"colab-df-container\">\n",
              "    <div>\n",
              "<style scoped>\n",
              "    .dataframe tbody tr th:only-of-type {\n",
              "        vertical-align: middle;\n",
              "    }\n",
              "\n",
              "    .dataframe tbody tr th {\n",
              "        vertical-align: top;\n",
              "    }\n",
              "\n",
              "    .dataframe thead th {\n",
              "        text-align: right;\n",
              "    }\n",
              "</style>\n",
              "<table border=\"1\" class=\"dataframe\">\n",
              "  <thead>\n",
              "    <tr style=\"text-align: right;\">\n",
              "      <th></th>\n",
              "      <th>text</th>\n",
              "      <th>label</th>\n",
              "    </tr>\n",
              "  </thead>\n",
              "  <tbody>\n",
              "    <tr>\n",
              "      <th>0</th>\n",
              "      <td>the pentagon is upgrading its gps  sniper atp ...</td>\n",
              "      <td>AVI</td>\n",
              "    </tr>\n",
              "    <tr>\n",
              "      <th>1</th>\n",
              "      <td>the search continues for a japanese air selfde...</td>\n",
              "      <td>MIS</td>\n",
              "    </tr>\n",
              "    <tr>\n",
              "      <th>2</th>\n",
              "      <td>some recent photos of the hill afb f35s deploy...</td>\n",
              "      <td>COC</td>\n",
              "    </tr>\n",
              "    <tr>\n",
              "      <th>3</th>\n",
              "      <td>kfx: south korea wants to build its very own f...</td>\n",
              "      <td>MIS</td>\n",
              "    </tr>\n",
              "    <tr>\n",
              "      <th>4</th>\n",
              "      <td>the army aviation and missile command awarded ...</td>\n",
              "      <td>AVI</td>\n",
              "    </tr>\n",
              "  </tbody>\n",
              "</table>\n",
              "</div>\n",
              "    <div class=\"colab-df-buttons\">\n",
              "\n",
              "  <div class=\"colab-df-container\">\n",
              "    <button class=\"colab-df-convert\" onclick=\"convertToInteractive('df-5b4f9d8f-ca00-4d4e-b9a2-570cb5a5ec20')\"\n",
              "            title=\"Convert this dataframe to an interactive table.\"\n",
              "            style=\"display:none;\">\n",
              "\n",
              "  <svg xmlns=\"http://www.w3.org/2000/svg\" height=\"24px\" viewBox=\"0 -960 960 960\">\n",
              "    <path d=\"M120-120v-720h720v720H120Zm60-500h600v-160H180v160Zm220 220h160v-160H400v160Zm0 220h160v-160H400v160ZM180-400h160v-160H180v160Zm440 0h160v-160H620v160ZM180-180h160v-160H180v160Zm440 0h160v-160H620v160Z\"/>\n",
              "  </svg>\n",
              "    </button>\n",
              "\n",
              "  <style>\n",
              "    .colab-df-container {\n",
              "      display:flex;\n",
              "      gap: 12px;\n",
              "    }\n",
              "\n",
              "    .colab-df-convert {\n",
              "      background-color: #E8F0FE;\n",
              "      border: none;\n",
              "      border-radius: 50%;\n",
              "      cursor: pointer;\n",
              "      display: none;\n",
              "      fill: #1967D2;\n",
              "      height: 32px;\n",
              "      padding: 0 0 0 0;\n",
              "      width: 32px;\n",
              "    }\n",
              "\n",
              "    .colab-df-convert:hover {\n",
              "      background-color: #E2EBFA;\n",
              "      box-shadow: 0px 1px 2px rgba(60, 64, 67, 0.3), 0px 1px 3px 1px rgba(60, 64, 67, 0.15);\n",
              "      fill: #174EA6;\n",
              "    }\n",
              "\n",
              "    .colab-df-buttons div {\n",
              "      margin-bottom: 4px;\n",
              "    }\n",
              "\n",
              "    [theme=dark] .colab-df-convert {\n",
              "      background-color: #3B4455;\n",
              "      fill: #D2E3FC;\n",
              "    }\n",
              "\n",
              "    [theme=dark] .colab-df-convert:hover {\n",
              "      background-color: #434B5C;\n",
              "      box-shadow: 0px 1px 3px 1px rgba(0, 0, 0, 0.15);\n",
              "      filter: drop-shadow(0px 1px 2px rgba(0, 0, 0, 0.3));\n",
              "      fill: #FFFFFF;\n",
              "    }\n",
              "  </style>\n",
              "\n",
              "    <script>\n",
              "      const buttonEl =\n",
              "        document.querySelector('#df-5b4f9d8f-ca00-4d4e-b9a2-570cb5a5ec20 button.colab-df-convert');\n",
              "      buttonEl.style.display =\n",
              "        google.colab.kernel.accessAllowed ? 'block' : 'none';\n",
              "\n",
              "      async function convertToInteractive(key) {\n",
              "        const element = document.querySelector('#df-5b4f9d8f-ca00-4d4e-b9a2-570cb5a5ec20');\n",
              "        const dataTable =\n",
              "          await google.colab.kernel.invokeFunction('convertToInteractive',\n",
              "                                                    [key], {});\n",
              "        if (!dataTable) return;\n",
              "\n",
              "        const docLinkHtml = 'Like what you see? Visit the ' +\n",
              "          '<a target=\"_blank\" href=https://colab.research.google.com/notebooks/data_table.ipynb>data table notebook</a>'\n",
              "          + ' to learn more about interactive tables.';\n",
              "        element.innerHTML = '';\n",
              "        dataTable['output_type'] = 'display_data';\n",
              "        await google.colab.output.renderOutput(dataTable, element);\n",
              "        const docLink = document.createElement('div');\n",
              "        docLink.innerHTML = docLinkHtml;\n",
              "        element.appendChild(docLink);\n",
              "      }\n",
              "    </script>\n",
              "  </div>\n",
              "\n",
              "\n",
              "<div id=\"df-a175f6a7-8233-411f-865d-b8b11f067d95\">\n",
              "  <button class=\"colab-df-quickchart\" onclick=\"quickchart('df-a175f6a7-8233-411f-865d-b8b11f067d95')\"\n",
              "            title=\"Suggest charts.\"\n",
              "            style=\"display:none;\">\n",
              "\n",
              "<svg xmlns=\"http://www.w3.org/2000/svg\" height=\"24px\"viewBox=\"0 0 24 24\"\n",
              "     width=\"24px\">\n",
              "    <g>\n",
              "        <path d=\"M19 3H5c-1.1 0-2 .9-2 2v14c0 1.1.9 2 2 2h14c1.1 0 2-.9 2-2V5c0-1.1-.9-2-2-2zM9 17H7v-7h2v7zm4 0h-2V7h2v10zm4 0h-2v-4h2v4z\"/>\n",
              "    </g>\n",
              "</svg>\n",
              "  </button>\n",
              "\n",
              "<style>\n",
              "  .colab-df-quickchart {\n",
              "      --bg-color: #E8F0FE;\n",
              "      --fill-color: #1967D2;\n",
              "      --hover-bg-color: #E2EBFA;\n",
              "      --hover-fill-color: #174EA6;\n",
              "      --disabled-fill-color: #AAA;\n",
              "      --disabled-bg-color: #DDD;\n",
              "  }\n",
              "\n",
              "  [theme=dark] .colab-df-quickchart {\n",
              "      --bg-color: #3B4455;\n",
              "      --fill-color: #D2E3FC;\n",
              "      --hover-bg-color: #434B5C;\n",
              "      --hover-fill-color: #FFFFFF;\n",
              "      --disabled-bg-color: #3B4455;\n",
              "      --disabled-fill-color: #666;\n",
              "  }\n",
              "\n",
              "  .colab-df-quickchart {\n",
              "    background-color: var(--bg-color);\n",
              "    border: none;\n",
              "    border-radius: 50%;\n",
              "    cursor: pointer;\n",
              "    display: none;\n",
              "    fill: var(--fill-color);\n",
              "    height: 32px;\n",
              "    padding: 0;\n",
              "    width: 32px;\n",
              "  }\n",
              "\n",
              "  .colab-df-quickchart:hover {\n",
              "    background-color: var(--hover-bg-color);\n",
              "    box-shadow: 0 1px 2px rgba(60, 64, 67, 0.3), 0 1px 3px 1px rgba(60, 64, 67, 0.15);\n",
              "    fill: var(--button-hover-fill-color);\n",
              "  }\n",
              "\n",
              "  .colab-df-quickchart-complete:disabled,\n",
              "  .colab-df-quickchart-complete:disabled:hover {\n",
              "    background-color: var(--disabled-bg-color);\n",
              "    fill: var(--disabled-fill-color);\n",
              "    box-shadow: none;\n",
              "  }\n",
              "\n",
              "  .colab-df-spinner {\n",
              "    border: 2px solid var(--fill-color);\n",
              "    border-color: transparent;\n",
              "    border-bottom-color: var(--fill-color);\n",
              "    animation:\n",
              "      spin 1s steps(1) infinite;\n",
              "  }\n",
              "\n",
              "  @keyframes spin {\n",
              "    0% {\n",
              "      border-color: transparent;\n",
              "      border-bottom-color: var(--fill-color);\n",
              "      border-left-color: var(--fill-color);\n",
              "    }\n",
              "    20% {\n",
              "      border-color: transparent;\n",
              "      border-left-color: var(--fill-color);\n",
              "      border-top-color: var(--fill-color);\n",
              "    }\n",
              "    30% {\n",
              "      border-color: transparent;\n",
              "      border-left-color: var(--fill-color);\n",
              "      border-top-color: var(--fill-color);\n",
              "      border-right-color: var(--fill-color);\n",
              "    }\n",
              "    40% {\n",
              "      border-color: transparent;\n",
              "      border-right-color: var(--fill-color);\n",
              "      border-top-color: var(--fill-color);\n",
              "    }\n",
              "    60% {\n",
              "      border-color: transparent;\n",
              "      border-right-color: var(--fill-color);\n",
              "    }\n",
              "    80% {\n",
              "      border-color: transparent;\n",
              "      border-right-color: var(--fill-color);\n",
              "      border-bottom-color: var(--fill-color);\n",
              "    }\n",
              "    90% {\n",
              "      border-color: transparent;\n",
              "      border-bottom-color: var(--fill-color);\n",
              "    }\n",
              "  }\n",
              "</style>\n",
              "\n",
              "  <script>\n",
              "    async function quickchart(key) {\n",
              "      const quickchartButtonEl =\n",
              "        document.querySelector('#' + key + ' button');\n",
              "      quickchartButtonEl.disabled = true;  // To prevent multiple clicks.\n",
              "      quickchartButtonEl.classList.add('colab-df-spinner');\n",
              "      try {\n",
              "        const charts = await google.colab.kernel.invokeFunction(\n",
              "            'suggestCharts', [key], {});\n",
              "      } catch (error) {\n",
              "        console.error('Error during call to suggestCharts:', error);\n",
              "      }\n",
              "      quickchartButtonEl.classList.remove('colab-df-spinner');\n",
              "      quickchartButtonEl.classList.add('colab-df-quickchart-complete');\n",
              "    }\n",
              "    (() => {\n",
              "      let quickchartButtonEl =\n",
              "        document.querySelector('#df-a175f6a7-8233-411f-865d-b8b11f067d95 button');\n",
              "      quickchartButtonEl.style.display =\n",
              "        google.colab.kernel.accessAllowed ? 'block' : 'none';\n",
              "    })();\n",
              "  </script>\n",
              "</div>\n",
              "    </div>\n",
              "  </div>\n"
            ]
          },
          "metadata": {},
          "execution_count": 54
        }
      ]
    },
    {
      "cell_type": "code",
      "source": [
        "df.info()"
      ],
      "metadata": {
        "colab": {
          "base_uri": "https://localhost:8080/"
        },
        "id": "swaD2r1W2Wy5",
        "outputId": "988ff569-da99-47f3-d04a-01cb9c664ddb"
      },
      "execution_count": null,
      "outputs": [
        {
          "output_type": "stream",
          "name": "stdout",
          "text": [
            "<class 'pandas.core.frame.DataFrame'>\n",
            "Int64Index: 20867 entries, 0 to 23667\n",
            "Data columns (total 2 columns):\n",
            " #   Column  Non-Null Count  Dtype \n",
            "---  ------  --------------  ----- \n",
            " 0   text    20867 non-null  object\n",
            " 1   label   20867 non-null  object\n",
            "dtypes: object(2)\n",
            "memory usage: 489.1+ KB\n"
          ]
        }
      ]
    },
    {
      "cell_type": "code",
      "source": [
        "X_train, X_test, y_train, y_test = train_test_split(df['text'], df['label'], test_size=0.2, random_state=42)\n",
        "\n",
        "max_vocab_size = 15000\n",
        "tokenizer = Tokenizer(num_words=max_vocab_size)\n",
        "tokenizer.fit_on_texts(X_train)\n",
        "X_train_seq = tokenizer.texts_to_sequences(X_train)\n",
        "X_test_seq = tokenizer.texts_to_sequences(X_test)\n",
        "\n",
        "\n",
        "max_seq_length = 100\n",
        "X_train_padded = pad_sequences(X_train_seq, maxlen=max_seq_length)\n",
        "X_test_padded = pad_sequences(X_test_seq, maxlen=max_seq_length)"
      ],
      "metadata": {
        "id": "E48yPqUt1l9F"
      },
      "execution_count": null,
      "outputs": []
    },
    {
      "cell_type": "code",
      "source": [
        "label_encoder = LabelEncoder()\n",
        "y_train_encoded = label_encoder.fit_transform(y_train)\n",
        "y_test_encoded = label_encoder.transform(y_test)"
      ],
      "metadata": {
        "id": "H-VwcJy8RKpr"
      },
      "execution_count": null,
      "outputs": []
    },
    {
      "cell_type": "code",
      "source": [
        "embedding_dim = 100\n",
        "num_classes = len(df['label'].unique())"
      ],
      "metadata": {
        "id": "WNxx1v0xReC7"
      },
      "execution_count": null,
      "outputs": []
    },
    {
      "cell_type": "code",
      "source": [
        "model = Sequential()\n",
        "model.add(Embedding(input_dim=max_vocab_size, output_dim=embedding_dim, input_length=max_seq_length))\n",
        "model.add(LSTM(128))\n",
        "model.add(Dense(num_classes, activation='softmax'))\n",
        "\n",
        "model.compile(loss='sparse_categorical_crossentropy', optimizer='adam', metrics=['accuracy'])\n",
        "\n",
        "batch_size = 32\n",
        "num_epochs = 20\n",
        "model.fit(X_train_padded, y_train_encoded, epochs=num_epochs, batch_size=batch_size, validation_data=(X_test_padded, y_test_encoded))\n",
        "\n",
        "#y_pred_encoded = model.predict_classes(X_test_padded)"
      ],
      "metadata": {
        "colab": {
          "base_uri": "https://localhost:8080/"
        },
        "id": "zSM1k4H716_s",
        "outputId": "e7893063-f718-49c0-f7ad-bf5568475eb2"
      },
      "execution_count": null,
      "outputs": [
        {
          "output_type": "stream",
          "name": "stdout",
          "text": [
            "Epoch 1/20\n",
            "522/522 [==============================] - 140s 263ms/step - loss: 1.6890 - accuracy: 0.3977 - val_loss: 1.5751 - val_accuracy: 0.4291\n",
            "Epoch 2/20\n",
            "522/522 [==============================] - 115s 219ms/step - loss: 1.4744 - accuracy: 0.4723 - val_loss: 1.5491 - val_accuracy: 0.4360\n",
            "Epoch 3/20\n",
            "522/522 [==============================] - 115s 220ms/step - loss: 1.2909 - accuracy: 0.5460 - val_loss: 1.5717 - val_accuracy: 0.4372\n",
            "Epoch 4/20\n",
            "522/522 [==============================] - 114s 219ms/step - loss: 1.1239 - accuracy: 0.6052 - val_loss: 1.6195 - val_accuracy: 0.4432\n",
            "Epoch 5/20\n",
            "522/522 [==============================] - 112s 215ms/step - loss: 0.9891 - accuracy: 0.6565 - val_loss: 1.7698 - val_accuracy: 0.4415\n",
            "Epoch 6/20\n",
            "522/522 [==============================] - 114s 219ms/step - loss: 0.8670 - accuracy: 0.6968 - val_loss: 1.8005 - val_accuracy: 0.4384\n",
            "Epoch 7/20\n",
            "522/522 [==============================] - 114s 219ms/step - loss: 0.7650 - accuracy: 0.7311 - val_loss: 1.9357 - val_accuracy: 0.4518\n",
            "Epoch 8/20\n",
            "522/522 [==============================] - 115s 220ms/step - loss: 0.6773 - accuracy: 0.7619 - val_loss: 2.1101 - val_accuracy: 0.4473\n",
            "Epoch 9/20\n",
            "522/522 [==============================] - 111s 213ms/step - loss: 0.6076 - accuracy: 0.7812 - val_loss: 2.2081 - val_accuracy: 0.4451\n",
            "Epoch 10/20\n",
            "522/522 [==============================] - 114s 218ms/step - loss: 0.5476 - accuracy: 0.8002 - val_loss: 2.2335 - val_accuracy: 0.4435\n",
            "Epoch 11/20\n",
            "522/522 [==============================] - 114s 219ms/step - loss: 0.5064 - accuracy: 0.8111 - val_loss: 2.3490 - val_accuracy: 0.4456\n",
            "Epoch 12/20\n",
            "522/522 [==============================] - 114s 219ms/step - loss: 0.4736 - accuracy: 0.8218 - val_loss: 2.5144 - val_accuracy: 0.4420\n",
            "Epoch 13/20\n",
            "522/522 [==============================] - 110s 212ms/step - loss: 0.4428 - accuracy: 0.8285 - val_loss: 2.5463 - val_accuracy: 0.4425\n",
            "Epoch 14/20\n",
            "522/522 [==============================] - 114s 219ms/step - loss: 0.4085 - accuracy: 0.8387 - val_loss: 2.6326 - val_accuracy: 0.4418\n",
            "Epoch 15/20\n",
            "522/522 [==============================] - 114s 218ms/step - loss: 0.3924 - accuracy: 0.8419 - val_loss: 2.6086 - val_accuracy: 0.4293\n",
            "Epoch 16/20\n",
            "522/522 [==============================] - 112s 215ms/step - loss: 0.3748 - accuracy: 0.8436 - val_loss: 2.8878 - val_accuracy: 0.4466\n",
            "Epoch 17/20\n",
            "522/522 [==============================] - 114s 218ms/step - loss: 0.3593 - accuracy: 0.8504 - val_loss: 2.8251 - val_accuracy: 0.4423\n",
            "Epoch 18/20\n",
            "522/522 [==============================] - 115s 220ms/step - loss: 0.3517 - accuracy: 0.8523 - val_loss: 2.9526 - val_accuracy: 0.4439\n",
            "Epoch 19/20\n",
            "522/522 [==============================] - 112s 214ms/step - loss: 0.3372 - accuracy: 0.8548 - val_loss: 3.0045 - val_accuracy: 0.4442\n",
            "Epoch 20/20\n",
            "522/522 [==============================] - 112s 215ms/step - loss: 0.3187 - accuracy: 0.8582 - val_loss: 3.1073 - val_accuracy: 0.4564\n"
          ]
        },
        {
          "output_type": "execute_result",
          "data": {
            "text/plain": [
              "<keras.src.callbacks.History at 0x794b8debb6a0>"
            ]
          },
          "metadata": {},
          "execution_count": 62
        }
      ]
    },
    {
      "cell_type": "code",
      "source": [
        "y_pred = model.predict(X_test_padded)\n",
        "y_pred_encoded = np.argmax(y_pred,axis=1)"
      ],
      "metadata": {
        "colab": {
          "base_uri": "https://localhost:8080/"
        },
        "id": "bCY3o_z4aRCx",
        "outputId": "dfe3916d-cf24-4de0-abae-73ccb902931d"
      },
      "execution_count": null,
      "outputs": [
        {
          "output_type": "stream",
          "name": "stdout",
          "text": [
            "131/131 [==============================] - 11s 78ms/step\n"
          ]
        }
      ]
    },
    {
      "cell_type": "code",
      "source": [
        "accuracy = accuracy_score(y_test_encoded, y_pred_encoded)\n",
        "print(\"Accuracy:\", accuracy)\n",
        "print(classification_report(y_test_encoded, y_pred_encoded))"
      ],
      "metadata": {
        "colab": {
          "base_uri": "https://localhost:8080/"
        },
        "id": "Ma4Sq_r62IBY",
        "outputId": "ace2fb0a-1621-4d41-e846-d42504c5b1d9"
      },
      "execution_count": null,
      "outputs": [
        {
          "output_type": "stream",
          "name": "stdout",
          "text": [
            "Accuracy: 0.4563967417345472\n",
            "              precision    recall  f1-score   support\n",
            "\n",
            "           0       0.51      0.63      0.56      1531\n",
            "           1       0.30      0.20      0.24       376\n",
            "           2       0.20      0.12      0.15         8\n",
            "           3       0.00      0.00      0.00         5\n",
            "           4       0.29      0.24      0.26        29\n",
            "           5       0.36      0.34      0.35       103\n",
            "           6       0.00      0.00      0.00         3\n",
            "           7       0.29      0.18      0.22        39\n",
            "           8       0.00      0.00      0.00        23\n",
            "           9       0.41      0.40      0.40       824\n",
            "          10       0.53      0.43      0.47       824\n",
            "          11       0.26      0.27      0.26        73\n",
            "          12       0.40      0.37      0.39       316\n",
            "          13       0.67      0.20      0.31        20\n",
            "\n",
            "    accuracy                           0.46      4174\n",
            "   macro avg       0.30      0.24      0.26      4174\n",
            "weighted avg       0.45      0.46      0.45      4174\n",
            "\n"
          ]
        }
      ]
    }
  ],
  "metadata": {
    "colab": {
      "name": "Welcome To Colaboratory",
      "provenance": [],
      "include_colab_link": true
    },
    "kernelspec": {
      "display_name": "Python 3",
      "name": "python3"
    }
  },
  "nbformat": 4,
  "nbformat_minor": 0
}