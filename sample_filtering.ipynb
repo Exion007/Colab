{
  "cells": [
    {
      "cell_type": "markdown",
      "metadata": {
        "id": "view-in-github",
        "colab_type": "text"
      },
      "source": [
        "<a href=\"https://colab.research.google.com/github/Exion007/Colab/blob/main/sample_filtering.ipynb\" target=\"_parent\"><img src=\"https://colab.research.google.com/assets/colab-badge.svg\" alt=\"Open In Colab\"/></a>"
      ]
    },
    {
      "cell_type": "markdown",
      "source": [
        "# Sample Training"
      ],
      "metadata": {
        "id": "6roOqzUI8Gj_"
      }
    },
    {
      "cell_type": "code",
      "source": [
        "import pandas as pd\n",
        "import numpy as np\n",
        "import matplotlib.pyplot as plt\n",
        "import seaborn as sns\n",
        "from sklearn.model_selection import train_test_split\n",
        "from sklearn.preprocessing import StandardScaler\n",
        "from sklearn.metrics import mean_squared_error\n",
        "import xgboost as xgb\n",
        "\n",
        "%matplotlib inline"
      ],
      "metadata": {
        "id": "iBguuM7Y5So0"
      },
      "execution_count": null,
      "outputs": []
    },
    {
      "cell_type": "code",
      "source": [
        "df = pd.read_csv(\"movies.csv\")\n",
        "df.head()"
      ],
      "metadata": {
        "id": "1T9lgucP6L9J"
      },
      "execution_count": null,
      "outputs": []
    },
    {
      "cell_type": "code",
      "source": [
        "df.info()"
      ],
      "metadata": {
        "id": "Ljt5RfTe6fKq"
      },
      "execution_count": null,
      "outputs": []
    },
    {
      "cell_type": "code",
      "source": [
        "to_del = [\"original_language\", \"production_companies\", \"tagline\", \"popularity\", \"overview\", \"release_date\"]\n",
        "df = df.drop(to_del, axis=1)\n",
        "df = df[df.budget > 0]\n",
        "df.dropna(inplace = True)\n",
        "\n",
        "print(df.shape[0])"
      ],
      "metadata": {
        "id": "SSfuW7y16xlt"
      },
      "execution_count": null,
      "outputs": []
    },
    {
      "cell_type": "code",
      "source": [
        "def convert_to_list(row):\n",
        "  row = row[2:-2].replace(\"'\",\"\").split(\", \")\n",
        "  return row\n",
        "\n",
        "# Convert genres string into list format\n",
        "df['genres'] = df['genres'].apply(convert_to_list)\n",
        "\n",
        "def filter_non_float_rows(dataframe, column_name):\n",
        "    filtered_dataframe = df[df[column_name].apply(lambda x: isinstance(x, float))]\n",
        "    return filtered_dataframe\n",
        "\n",
        "df = filter_non_float_rows(df, 'vote_average')"
      ],
      "metadata": {
        "id": "c-VWEO8T6JrW"
      },
      "execution_count": null,
      "outputs": []
    },
    {
      "cell_type": "code",
      "source": [
        "X = df.drop('vote_average', axis=1)\n",
        "y = df['vote_average']\n",
        "\n",
        "X_train, X_test, y_train, y_test = train_test_split(X, y, test_size=0.2, random_state=42)\n",
        "scaler = StandardScaler()\n",
        "X_train_scaled = scaler.fit_transform(X_train)\n",
        "X_test_scaled = scaler.transform(X_test)"
      ],
      "metadata": {
        "id": "RstVNxQm5EPU"
      },
      "execution_count": null,
      "outputs": []
    },
    {
      "cell_type": "code",
      "source": [
        "model = xgb.XGBRegressor(n_estimators=100, learning_rate=0.1, random_state=42)\n",
        "model.fit(X_train_scaled, y_train)"
      ],
      "metadata": {
        "id": "RwmHo-Hw7pr0"
      },
      "execution_count": null,
      "outputs": []
    },
    {
      "cell_type": "code",
      "source": [
        "y_pred = model.predict(X_test_scaled)\n",
        "mse = mean_squared_error(y_test, y_pred)\n",
        "rmse = mse ** 0.5\n",
        "print(f'Root Mean Squared Error: {rmse}')"
      ],
      "metadata": {
        "id": "1CpED-of7skZ"
      },
      "execution_count": null,
      "outputs": []
    },
    {
      "cell_type": "code",
      "source": [
        "new_budget = 10000000  # Replace with the budget of the new movie\n",
        "new_row = pd.DataFrame({\n",
        "    'budget': [new_budget],\n",
        "    'average_votes': [0]  # You might need to set this value based on your dataset\n",
        "})\n",
        "new_row_scaled = scaler.transform(new_row)\n",
        "predicted_rating = model.predict(new_row_scaled)[0]\n",
        "print(f\"Predicted Average Rating: {predicted_rating}\")"
      ],
      "metadata": {
        "id": "7MLWsay-8GQQ"
      },
      "execution_count": null,
      "outputs": []
    }
  ],
  "metadata": {
    "colab": {
      "name": "Welcome To Colaboratory",
      "provenance": [],
      "include_colab_link": true
    },
    "kernelspec": {
      "display_name": "Python 3",
      "name": "python3"
    }
  },
  "nbformat": 4,
  "nbformat_minor": 0
}