{
  "cells": [
    {
      "cell_type": "markdown",
      "metadata": {
        "id": "view-in-github",
        "colab_type": "text"
      },
      "source": [
        "<a href=\"https://colab.research.google.com/github/Exion007/Colab/blob/main/pokemon_df_filtering.ipynb\" target=\"_parent\"><img src=\"https://colab.research.google.com/assets/colab-badge.svg\" alt=\"Open In Colab\"/></a>"
      ]
    },
    {
      "cell_type": "code",
      "source": [
        "import os\n",
        "import time\n",
        "import pickle\n",
        "import numpy as np\n",
        "import pandas as pd\n",
        "\n",
        "from sklearn.preprocessing import LabelEncoder\n",
        "from sklearn.tree import DecisionTreeClassifier\n",
        "from sklearn.model_selection import train_test_split\n",
        "from sklearn.metrics import accuracy_score, precision_score, recall_score, roc_auc_score, log_loss\n",
        "from sklearn.ensemble import BaggingClassifier, GradientBoostingClassifier, RandomForestClassifier"
      ],
      "metadata": {
        "id": "5XJi7EiKF9UD"
      },
      "execution_count": 19,
      "outputs": []
    },
    {
      "cell_type": "code",
      "source": [
        "df = pd.read_csv(\"pokemon.csv\")\n",
        "\n",
        "df[\"Type 2\"].fillna(\"None\", inplace = True)\n",
        "\n",
        "df = df.iloc[:,2:23]\n",
        "df = df.drop(columns=[\"Abilities\", \"Mean\", \"Standard Deviation\"])"
      ],
      "metadata": {
        "id": "cuSfuCT_I1e6"
      },
      "execution_count": 20,
      "outputs": []
    },
    {
      "cell_type": "code",
      "source": [
        "print(df[\"Type 1\"].unique(), \"\\n\")\n",
        "print(df[\"Type 2\"].unique(), \"\\n\")\n",
        "print(df[\"Experience type\"].unique(), \"\\n\")\n",
        "print(np.sort(df[\"Experience to level 100\"].unique()), \"\\n\")\n",
        "print(np.sort(df[\"Catch Rate\"].unique()), \"\\n\")"
      ],
      "metadata": {
        "id": "quJcfLJKJh7E",
        "outputId": "c39dff6d-759b-45cc-ea2a-c99ea88b42db",
        "colab": {
          "base_uri": "https://localhost:8080/"
        }
      },
      "execution_count": 21,
      "outputs": [
        {
          "output_type": "stream",
          "name": "stdout",
          "text": [
            "['Grass' 'Fire' 'Water' 'Bug' 'Normal' 'Dark' 'Poison' 'Electric' 'Ground'\n",
            " 'Ice' 'Fairy' 'Steel' 'Fighting' 'Psychic' 'Rock' 'Ghost' 'Dragon'\n",
            " 'Flying'] \n",
            "\n",
            "['Poison' 'None' 'Flying' 'Dragon' 'Normal' 'Psychic' 'Steel' 'Ground'\n",
            " 'Fairy' 'Grass' 'Fighting' 'Electric' 'Ice' 'Dark' 'Ghost' 'Rock' 'Water'\n",
            " 'Fire' 'Bug'] \n",
            "\n",
            "['Medium Slow' 'Medium Fast' 'Fast' 'Slow' 'Fluctuating' 'Erratic'] \n",
            "\n",
            "[ 600000  800000 1000000 1059860 1250000 1640000] \n",
            "\n",
            "[  3  10  15  25  30  35  45  50  55  60  65  70  75  80  90 100 120 125\n",
            " 127 130 140 145 150 155 160 170 180 190 200 205 220 225 235 255] \n",
            "\n"
          ]
        }
      ]
    },
    {
      "cell_type": "code",
      "source": [
        "df.to_csv(\"pokemon_df.csv\", index = False)"
      ],
      "metadata": {
        "id": "sWalQgvCKHvf"
      },
      "execution_count": 24,
      "outputs": []
    }
  ],
  "metadata": {
    "colab": {
      "name": "Welcome To Colaboratory",
      "provenance": [],
      "include_colab_link": true
    },
    "kernelspec": {
      "display_name": "Python 3",
      "name": "python3"
    }
  },
  "nbformat": 4,
  "nbformat_minor": 0
}