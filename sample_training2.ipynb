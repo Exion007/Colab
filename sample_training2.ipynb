{
  "cells": [
    {
      "cell_type": "markdown",
      "source": [
        "# Sample Training"
      ],
      "metadata": {
        "id": "6roOqzUI8Gj_"
      }
    },
    {
      "cell_type": "code",
      "source": [
        "import pandas as pd\n",
        "import numpy as np\n",
        "import matplotlib.pyplot as plt\n",
        "import seaborn as sns\n",
        "from sklearn.model_selection import train_test_split\n",
        "from sklearn.preprocessing import StandardScaler\n",
        "from sklearn.metrics import mean_squared_error\n",
        "import xgboost as xgb\n",
        "\n",
        "%matplotlib inline"
      ],
      "metadata": {
        "id": "iBguuM7Y5So0"
      },
      "execution_count": 18,
      "outputs": []
    },
    {
      "cell_type": "code",
      "source": [
        "df = pd.read_csv(\"movies.csv\")\n",
        "df.head()"
      ],
      "metadata": {
        "colab": {
          "base_uri": "https://localhost:8080/",
          "height": 466
        },
        "id": "1T9lgucP6L9J",
        "outputId": "b4a26215-0eaf-433b-c1ca-9d5fd9b3effe"
      },
      "execution_count": 19,
      "outputs": [
        {
          "output_type": "execute_result",
          "data": {
            "text/plain": [
              "       id                              title release_date  \\\n",
              "0  758323                The Pope's Exorcist   2023-04-05   \n",
              "1  640146  Ant-Man and the Wasp: Quantumania   2023-02-15   \n",
              "2  502356        The Super Mario Bros. Movie   2023-04-05   \n",
              "3  868759                            Ghosted   2023-04-18   \n",
              "4  594767           Shazam! Fury of the Gods   2023-03-15   \n",
              "\n",
              "                                              genres original_language  \\\n",
              "0                  ['Horror', 'Mystery', 'Thriller']           English   \n",
              "1         ['Action', 'Adventure', 'Science Fiction']           English   \n",
              "2  ['Animation', 'Adventure', 'Family', 'Fantasy'...           English   \n",
              "3                    ['Action', 'Comedy', 'Romance']           English   \n",
              "4       ['Action', 'Comedy', 'Fantasy', 'Adventure']           English   \n",
              "\n",
              "   vote_average  vote_count  popularity  \\\n",
              "0           7.4         619    5089.969   \n",
              "1           6.6        2294    4665.438   \n",
              "2           7.5        1861    3935.550   \n",
              "3           7.2         652    2791.532   \n",
              "4           6.8        1510    2702.593   \n",
              "\n",
              "                                            overview     budget  \\\n",
              "0  Father Gabriele Amorth, Chief Exorcist of the ...   18000000   \n",
              "1  Super-Hero partners Scott Lang and Hope van Dy...  200000000   \n",
              "2  While working underground to fix a water main,...  100000000   \n",
              "3  Salt-of-the-earth Cole falls head over heels f...          0   \n",
              "4  Billy Batson and his foster siblings, who tran...  125000000   \n",
              "\n",
              "                                production_companies     revenue  runtime  \\\n",
              "0  ['Screen Gems', '2.0 Entertainment', 'Jesus & ...    65675816      103   \n",
              "1      ['Marvel Studios', 'Kevin Feige Productions']   464566092      125   \n",
              "2  ['Universal Pictures', 'Illumination', 'Ninten...  1121048165       92   \n",
              "3                ['Skydance Media', 'Apple Studios']           0      120   \n",
              "4  ['New Line Cinema', 'The Safran Company', 'DC ...   133437105      130   \n",
              "\n",
              "                                             tagline  \n",
              "0  Inspired by the actual files of Father Gabriel...  \n",
              "1            Witness the beginning of a new dynasty.  \n",
              "2                                                NaN  \n",
              "3  Finding that special someone can be a real adv...  \n",
              "4                                      Oh. My. Gods.  "
            ],
            "text/html": [
              "\n",
              "  <div id=\"df-9938a46c-cc7d-4fde-b1c8-34c078f4f15c\" class=\"colab-df-container\">\n",
              "    <div>\n",
              "<style scoped>\n",
              "    .dataframe tbody tr th:only-of-type {\n",
              "        vertical-align: middle;\n",
              "    }\n",
              "\n",
              "    .dataframe tbody tr th {\n",
              "        vertical-align: top;\n",
              "    }\n",
              "\n",
              "    .dataframe thead th {\n",
              "        text-align: right;\n",
              "    }\n",
              "</style>\n",
              "<table border=\"1\" class=\"dataframe\">\n",
              "  <thead>\n",
              "    <tr style=\"text-align: right;\">\n",
              "      <th></th>\n",
              "      <th>id</th>\n",
              "      <th>title</th>\n",
              "      <th>release_date</th>\n",
              "      <th>genres</th>\n",
              "      <th>original_language</th>\n",
              "      <th>vote_average</th>\n",
              "      <th>vote_count</th>\n",
              "      <th>popularity</th>\n",
              "      <th>overview</th>\n",
              "      <th>budget</th>\n",
              "      <th>production_companies</th>\n",
              "      <th>revenue</th>\n",
              "      <th>runtime</th>\n",
              "      <th>tagline</th>\n",
              "    </tr>\n",
              "  </thead>\n",
              "  <tbody>\n",
              "    <tr>\n",
              "      <th>0</th>\n",
              "      <td>758323</td>\n",
              "      <td>The Pope's Exorcist</td>\n",
              "      <td>2023-04-05</td>\n",
              "      <td>['Horror', 'Mystery', 'Thriller']</td>\n",
              "      <td>English</td>\n",
              "      <td>7.4</td>\n",
              "      <td>619</td>\n",
              "      <td>5089.969</td>\n",
              "      <td>Father Gabriele Amorth, Chief Exorcist of the ...</td>\n",
              "      <td>18000000</td>\n",
              "      <td>['Screen Gems', '2.0 Entertainment', 'Jesus &amp; ...</td>\n",
              "      <td>65675816</td>\n",
              "      <td>103</td>\n",
              "      <td>Inspired by the actual files of Father Gabriel...</td>\n",
              "    </tr>\n",
              "    <tr>\n",
              "      <th>1</th>\n",
              "      <td>640146</td>\n",
              "      <td>Ant-Man and the Wasp: Quantumania</td>\n",
              "      <td>2023-02-15</td>\n",
              "      <td>['Action', 'Adventure', 'Science Fiction']</td>\n",
              "      <td>English</td>\n",
              "      <td>6.6</td>\n",
              "      <td>2294</td>\n",
              "      <td>4665.438</td>\n",
              "      <td>Super-Hero partners Scott Lang and Hope van Dy...</td>\n",
              "      <td>200000000</td>\n",
              "      <td>['Marvel Studios', 'Kevin Feige Productions']</td>\n",
              "      <td>464566092</td>\n",
              "      <td>125</td>\n",
              "      <td>Witness the beginning of a new dynasty.</td>\n",
              "    </tr>\n",
              "    <tr>\n",
              "      <th>2</th>\n",
              "      <td>502356</td>\n",
              "      <td>The Super Mario Bros. Movie</td>\n",
              "      <td>2023-04-05</td>\n",
              "      <td>['Animation', 'Adventure', 'Family', 'Fantasy'...</td>\n",
              "      <td>English</td>\n",
              "      <td>7.5</td>\n",
              "      <td>1861</td>\n",
              "      <td>3935.550</td>\n",
              "      <td>While working underground to fix a water main,...</td>\n",
              "      <td>100000000</td>\n",
              "      <td>['Universal Pictures', 'Illumination', 'Ninten...</td>\n",
              "      <td>1121048165</td>\n",
              "      <td>92</td>\n",
              "      <td>NaN</td>\n",
              "    </tr>\n",
              "    <tr>\n",
              "      <th>3</th>\n",
              "      <td>868759</td>\n",
              "      <td>Ghosted</td>\n",
              "      <td>2023-04-18</td>\n",
              "      <td>['Action', 'Comedy', 'Romance']</td>\n",
              "      <td>English</td>\n",
              "      <td>7.2</td>\n",
              "      <td>652</td>\n",
              "      <td>2791.532</td>\n",
              "      <td>Salt-of-the-earth Cole falls head over heels f...</td>\n",
              "      <td>0</td>\n",
              "      <td>['Skydance Media', 'Apple Studios']</td>\n",
              "      <td>0</td>\n",
              "      <td>120</td>\n",
              "      <td>Finding that special someone can be a real adv...</td>\n",
              "    </tr>\n",
              "    <tr>\n",
              "      <th>4</th>\n",
              "      <td>594767</td>\n",
              "      <td>Shazam! Fury of the Gods</td>\n",
              "      <td>2023-03-15</td>\n",
              "      <td>['Action', 'Comedy', 'Fantasy', 'Adventure']</td>\n",
              "      <td>English</td>\n",
              "      <td>6.8</td>\n",
              "      <td>1510</td>\n",
              "      <td>2702.593</td>\n",
              "      <td>Billy Batson and his foster siblings, who tran...</td>\n",
              "      <td>125000000</td>\n",
              "      <td>['New Line Cinema', 'The Safran Company', 'DC ...</td>\n",
              "      <td>133437105</td>\n",
              "      <td>130</td>\n",
              "      <td>Oh. My. Gods.</td>\n",
              "    </tr>\n",
              "  </tbody>\n",
              "</table>\n",
              "</div>\n",
              "    <div class=\"colab-df-buttons\">\n",
              "\n",
              "  <div class=\"colab-df-container\">\n",
              "    <button class=\"colab-df-convert\" onclick=\"convertToInteractive('df-9938a46c-cc7d-4fde-b1c8-34c078f4f15c')\"\n",
              "            title=\"Convert this dataframe to an interactive table.\"\n",
              "            style=\"display:none;\">\n",
              "\n",
              "  <svg xmlns=\"http://www.w3.org/2000/svg\" height=\"24px\" viewBox=\"0 -960 960 960\">\n",
              "    <path d=\"M120-120v-720h720v720H120Zm60-500h600v-160H180v160Zm220 220h160v-160H400v160Zm0 220h160v-160H400v160ZM180-400h160v-160H180v160Zm440 0h160v-160H620v160ZM180-180h160v-160H180v160Zm440 0h160v-160H620v160Z\"/>\n",
              "  </svg>\n",
              "    </button>\n",
              "\n",
              "  <style>\n",
              "    .colab-df-container {\n",
              "      display:flex;\n",
              "      gap: 12px;\n",
              "    }\n",
              "\n",
              "    .colab-df-convert {\n",
              "      background-color: #E8F0FE;\n",
              "      border: none;\n",
              "      border-radius: 50%;\n",
              "      cursor: pointer;\n",
              "      display: none;\n",
              "      fill: #1967D2;\n",
              "      height: 32px;\n",
              "      padding: 0 0 0 0;\n",
              "      width: 32px;\n",
              "    }\n",
              "\n",
              "    .colab-df-convert:hover {\n",
              "      background-color: #E2EBFA;\n",
              "      box-shadow: 0px 1px 2px rgba(60, 64, 67, 0.3), 0px 1px 3px 1px rgba(60, 64, 67, 0.15);\n",
              "      fill: #174EA6;\n",
              "    }\n",
              "\n",
              "    .colab-df-buttons div {\n",
              "      margin-bottom: 4px;\n",
              "    }\n",
              "\n",
              "    [theme=dark] .colab-df-convert {\n",
              "      background-color: #3B4455;\n",
              "      fill: #D2E3FC;\n",
              "    }\n",
              "\n",
              "    [theme=dark] .colab-df-convert:hover {\n",
              "      background-color: #434B5C;\n",
              "      box-shadow: 0px 1px 3px 1px rgba(0, 0, 0, 0.15);\n",
              "      filter: drop-shadow(0px 1px 2px rgba(0, 0, 0, 0.3));\n",
              "      fill: #FFFFFF;\n",
              "    }\n",
              "  </style>\n",
              "\n",
              "    <script>\n",
              "      const buttonEl =\n",
              "        document.querySelector('#df-9938a46c-cc7d-4fde-b1c8-34c078f4f15c button.colab-df-convert');\n",
              "      buttonEl.style.display =\n",
              "        google.colab.kernel.accessAllowed ? 'block' : 'none';\n",
              "\n",
              "      async function convertToInteractive(key) {\n",
              "        const element = document.querySelector('#df-9938a46c-cc7d-4fde-b1c8-34c078f4f15c');\n",
              "        const dataTable =\n",
              "          await google.colab.kernel.invokeFunction('convertToInteractive',\n",
              "                                                    [key], {});\n",
              "        if (!dataTable) return;\n",
              "\n",
              "        const docLinkHtml = 'Like what you see? Visit the ' +\n",
              "          '<a target=\"_blank\" href=https://colab.research.google.com/notebooks/data_table.ipynb>data table notebook</a>'\n",
              "          + ' to learn more about interactive tables.';\n",
              "        element.innerHTML = '';\n",
              "        dataTable['output_type'] = 'display_data';\n",
              "        await google.colab.output.renderOutput(dataTable, element);\n",
              "        const docLink = document.createElement('div');\n",
              "        docLink.innerHTML = docLinkHtml;\n",
              "        element.appendChild(docLink);\n",
              "      }\n",
              "    </script>\n",
              "  </div>\n",
              "\n",
              "\n",
              "<div id=\"df-a7c6b9c3-37f0-4d67-a054-c75c54c243c1\">\n",
              "  <button class=\"colab-df-quickchart\" onclick=\"quickchart('df-a7c6b9c3-37f0-4d67-a054-c75c54c243c1')\"\n",
              "            title=\"Suggest charts.\"\n",
              "            style=\"display:none;\">\n",
              "\n",
              "<svg xmlns=\"http://www.w3.org/2000/svg\" height=\"24px\"viewBox=\"0 0 24 24\"\n",
              "     width=\"24px\">\n",
              "    <g>\n",
              "        <path d=\"M19 3H5c-1.1 0-2 .9-2 2v14c0 1.1.9 2 2 2h14c1.1 0 2-.9 2-2V5c0-1.1-.9-2-2-2zM9 17H7v-7h2v7zm4 0h-2V7h2v10zm4 0h-2v-4h2v4z\"/>\n",
              "    </g>\n",
              "</svg>\n",
              "  </button>\n",
              "\n",
              "<style>\n",
              "  .colab-df-quickchart {\n",
              "    background-color: #E8F0FE;\n",
              "    border: none;\n",
              "    border-radius: 50%;\n",
              "    cursor: pointer;\n",
              "    display: none;\n",
              "    fill: #1967D2;\n",
              "    height: 32px;\n",
              "    padding: 0 0 0 0;\n",
              "    width: 32px;\n",
              "  }\n",
              "\n",
              "  .colab-df-quickchart:hover {\n",
              "    background-color: #E2EBFA;\n",
              "    box-shadow: 0px 1px 2px rgba(60, 64, 67, 0.3), 0px 1px 3px 1px rgba(60, 64, 67, 0.15);\n",
              "    fill: #174EA6;\n",
              "  }\n",
              "\n",
              "  [theme=dark] .colab-df-quickchart {\n",
              "    background-color: #3B4455;\n",
              "    fill: #D2E3FC;\n",
              "  }\n",
              "\n",
              "  [theme=dark] .colab-df-quickchart:hover {\n",
              "    background-color: #434B5C;\n",
              "    box-shadow: 0px 1px 3px 1px rgba(0, 0, 0, 0.15);\n",
              "    filter: drop-shadow(0px 1px 2px rgba(0, 0, 0, 0.3));\n",
              "    fill: #FFFFFF;\n",
              "  }\n",
              "</style>\n",
              "\n",
              "  <script>\n",
              "    async function quickchart(key) {\n",
              "      const charts = await google.colab.kernel.invokeFunction(\n",
              "          'suggestCharts', [key], {});\n",
              "    }\n",
              "    (() => {\n",
              "      let quickchartButtonEl =\n",
              "        document.querySelector('#df-a7c6b9c3-37f0-4d67-a054-c75c54c243c1 button');\n",
              "      quickchartButtonEl.style.display =\n",
              "        google.colab.kernel.accessAllowed ? 'block' : 'none';\n",
              "    })();\n",
              "  </script>\n",
              "</div>\n",
              "    </div>\n",
              "  </div>\n"
            ]
          },
          "metadata": {},
          "execution_count": 19
        }
      ]
    },
    {
      "cell_type": "code",
      "source": [
        "df.info()"
      ],
      "metadata": {
        "colab": {
          "base_uri": "https://localhost:8080/"
        },
        "id": "Ljt5RfTe6fKq",
        "outputId": "a8fd978a-f92c-48a0-e40e-a68340a0b059"
      },
      "execution_count": 20,
      "outputs": [
        {
          "output_type": "stream",
          "name": "stdout",
          "text": [
            "<class 'pandas.core.frame.DataFrame'>\n",
            "RangeIndex: 10000 entries, 0 to 9999\n",
            "Data columns (total 14 columns):\n",
            " #   Column                Non-Null Count  Dtype  \n",
            "---  ------                --------------  -----  \n",
            " 0   id                    10000 non-null  int64  \n",
            " 1   title                 10000 non-null  object \n",
            " 2   release_date          9979 non-null   object \n",
            " 3   genres                10000 non-null  object \n",
            " 4   original_language     10000 non-null  object \n",
            " 5   vote_average          10000 non-null  float64\n",
            " 6   vote_count            10000 non-null  int64  \n",
            " 7   popularity            10000 non-null  float64\n",
            " 8   overview              9923 non-null   object \n",
            " 9   budget                10000 non-null  int64  \n",
            " 10  production_companies  10000 non-null  object \n",
            " 11  revenue               10000 non-null  int64  \n",
            " 12  runtime               10000 non-null  int64  \n",
            " 13  tagline               7241 non-null   object \n",
            "dtypes: float64(2), int64(5), object(7)\n",
            "memory usage: 1.1+ MB\n"
          ]
        }
      ]
    },
    {
      "cell_type": "code",
      "source": [
        "df = df.loc[:, [\"vote_average\", \"budget\"]]\n",
        "df = df[df.budget > 0]\n",
        "df.dropna(inplace = True)\n",
        "\n",
        "print(df.shape[0])"
      ],
      "metadata": {
        "colab": {
          "base_uri": "https://localhost:8080/"
        },
        "id": "SSfuW7y16xlt",
        "outputId": "5da9e1a9-e9e8-41c3-91e9-829b0666d3cc"
      },
      "execution_count": 21,
      "outputs": [
        {
          "output_type": "stream",
          "name": "stdout",
          "text": [
            "5136\n"
          ]
        }
      ]
    },
    {
      "cell_type": "code",
      "source": [
        "X = df.drop('vote_average', axis=1)\n",
        "y = df['vote_average']\n",
        "\n",
        "X_train, X_test, y_train, y_test = train_test_split(X, y, test_size=0.2, random_state=42)\n",
        "scaler = StandardScaler()\n",
        "X_train_scaled = scaler.fit_transform(X_train)\n",
        "X_test_scaled = scaler.transform(X_test)"
      ],
      "metadata": {
        "id": "RstVNxQm5EPU"
      },
      "execution_count": 22,
      "outputs": []
    },
    {
      "cell_type": "code",
      "source": [
        "model = xgb.XGBRegressor(n_estimators=100, learning_rate=0.1, random_state=42)\n",
        "model.fit(X_train_scaled, y_train)"
      ],
      "metadata": {
        "id": "RwmHo-Hw7pr0",
        "colab": {
          "base_uri": "https://localhost:8080/",
          "height": 248
        },
        "outputId": "93cea0d4-3b7e-41c6-d3f2-97d7f84954a3"
      },
      "execution_count": 23,
      "outputs": [
        {
          "output_type": "execute_result",
          "data": {
            "text/plain": [
              "XGBRegressor(base_score=None, booster=None, callbacks=None,\n",
              "             colsample_bylevel=None, colsample_bynode=None,\n",
              "             colsample_bytree=None, early_stopping_rounds=None,\n",
              "             enable_categorical=False, eval_metric=None, feature_types=None,\n",
              "             gamma=None, gpu_id=None, grow_policy=None, importance_type=None,\n",
              "             interaction_constraints=None, learning_rate=0.1, max_bin=None,\n",
              "             max_cat_threshold=None, max_cat_to_onehot=None,\n",
              "             max_delta_step=None, max_depth=None, max_leaves=None,\n",
              "             min_child_weight=None, missing=nan, monotone_constraints=None,\n",
              "             n_estimators=100, n_jobs=None, num_parallel_tree=None,\n",
              "             predictor=None, random_state=42, ...)"
            ],
            "text/html": [
              "<style>#sk-container-id-2 {color: black;background-color: white;}#sk-container-id-2 pre{padding: 0;}#sk-container-id-2 div.sk-toggleable {background-color: white;}#sk-container-id-2 label.sk-toggleable__label {cursor: pointer;display: block;width: 100%;margin-bottom: 0;padding: 0.3em;box-sizing: border-box;text-align: center;}#sk-container-id-2 label.sk-toggleable__label-arrow:before {content: \"▸\";float: left;margin-right: 0.25em;color: #696969;}#sk-container-id-2 label.sk-toggleable__label-arrow:hover:before {color: black;}#sk-container-id-2 div.sk-estimator:hover label.sk-toggleable__label-arrow:before {color: black;}#sk-container-id-2 div.sk-toggleable__content {max-height: 0;max-width: 0;overflow: hidden;text-align: left;background-color: #f0f8ff;}#sk-container-id-2 div.sk-toggleable__content pre {margin: 0.2em;color: black;border-radius: 0.25em;background-color: #f0f8ff;}#sk-container-id-2 input.sk-toggleable__control:checked~div.sk-toggleable__content {max-height: 200px;max-width: 100%;overflow: auto;}#sk-container-id-2 input.sk-toggleable__control:checked~label.sk-toggleable__label-arrow:before {content: \"▾\";}#sk-container-id-2 div.sk-estimator input.sk-toggleable__control:checked~label.sk-toggleable__label {background-color: #d4ebff;}#sk-container-id-2 div.sk-label input.sk-toggleable__control:checked~label.sk-toggleable__label {background-color: #d4ebff;}#sk-container-id-2 input.sk-hidden--visually {border: 0;clip: rect(1px 1px 1px 1px);clip: rect(1px, 1px, 1px, 1px);height: 1px;margin: -1px;overflow: hidden;padding: 0;position: absolute;width: 1px;}#sk-container-id-2 div.sk-estimator {font-family: monospace;background-color: #f0f8ff;border: 1px dotted black;border-radius: 0.25em;box-sizing: border-box;margin-bottom: 0.5em;}#sk-container-id-2 div.sk-estimator:hover {background-color: #d4ebff;}#sk-container-id-2 div.sk-parallel-item::after {content: \"\";width: 100%;border-bottom: 1px solid gray;flex-grow: 1;}#sk-container-id-2 div.sk-label:hover label.sk-toggleable__label {background-color: #d4ebff;}#sk-container-id-2 div.sk-serial::before {content: \"\";position: absolute;border-left: 1px solid gray;box-sizing: border-box;top: 0;bottom: 0;left: 50%;z-index: 0;}#sk-container-id-2 div.sk-serial {display: flex;flex-direction: column;align-items: center;background-color: white;padding-right: 0.2em;padding-left: 0.2em;position: relative;}#sk-container-id-2 div.sk-item {position: relative;z-index: 1;}#sk-container-id-2 div.sk-parallel {display: flex;align-items: stretch;justify-content: center;background-color: white;position: relative;}#sk-container-id-2 div.sk-item::before, #sk-container-id-2 div.sk-parallel-item::before {content: \"\";position: absolute;border-left: 1px solid gray;box-sizing: border-box;top: 0;bottom: 0;left: 50%;z-index: -1;}#sk-container-id-2 div.sk-parallel-item {display: flex;flex-direction: column;z-index: 1;position: relative;background-color: white;}#sk-container-id-2 div.sk-parallel-item:first-child::after {align-self: flex-end;width: 50%;}#sk-container-id-2 div.sk-parallel-item:last-child::after {align-self: flex-start;width: 50%;}#sk-container-id-2 div.sk-parallel-item:only-child::after {width: 0;}#sk-container-id-2 div.sk-dashed-wrapped {border: 1px dashed gray;margin: 0 0.4em 0.5em 0.4em;box-sizing: border-box;padding-bottom: 0.4em;background-color: white;}#sk-container-id-2 div.sk-label label {font-family: monospace;font-weight: bold;display: inline-block;line-height: 1.2em;}#sk-container-id-2 div.sk-label-container {text-align: center;}#sk-container-id-2 div.sk-container {/* jupyter's `normalize.less` sets `[hidden] { display: none; }` but bootstrap.min.css set `[hidden] { display: none !important; }` so we also need the `!important` here to be able to override the default hidden behavior on the sphinx rendered scikit-learn.org. See: https://github.com/scikit-learn/scikit-learn/issues/21755 */display: inline-block !important;position: relative;}#sk-container-id-2 div.sk-text-repr-fallback {display: none;}</style><div id=\"sk-container-id-2\" class=\"sk-top-container\"><div class=\"sk-text-repr-fallback\"><pre>XGBRegressor(base_score=None, booster=None, callbacks=None,\n",
              "             colsample_bylevel=None, colsample_bynode=None,\n",
              "             colsample_bytree=None, early_stopping_rounds=None,\n",
              "             enable_categorical=False, eval_metric=None, feature_types=None,\n",
              "             gamma=None, gpu_id=None, grow_policy=None, importance_type=None,\n",
              "             interaction_constraints=None, learning_rate=0.1, max_bin=None,\n",
              "             max_cat_threshold=None, max_cat_to_onehot=None,\n",
              "             max_delta_step=None, max_depth=None, max_leaves=None,\n",
              "             min_child_weight=None, missing=nan, monotone_constraints=None,\n",
              "             n_estimators=100, n_jobs=None, num_parallel_tree=None,\n",
              "             predictor=None, random_state=42, ...)</pre><b>In a Jupyter environment, please rerun this cell to show the HTML representation or trust the notebook. <br />On GitHub, the HTML representation is unable to render, please try loading this page with nbviewer.org.</b></div><div class=\"sk-container\" hidden><div class=\"sk-item\"><div class=\"sk-estimator sk-toggleable\"><input class=\"sk-toggleable__control sk-hidden--visually\" id=\"sk-estimator-id-2\" type=\"checkbox\" checked><label for=\"sk-estimator-id-2\" class=\"sk-toggleable__label sk-toggleable__label-arrow\">XGBRegressor</label><div class=\"sk-toggleable__content\"><pre>XGBRegressor(base_score=None, booster=None, callbacks=None,\n",
              "             colsample_bylevel=None, colsample_bynode=None,\n",
              "             colsample_bytree=None, early_stopping_rounds=None,\n",
              "             enable_categorical=False, eval_metric=None, feature_types=None,\n",
              "             gamma=None, gpu_id=None, grow_policy=None, importance_type=None,\n",
              "             interaction_constraints=None, learning_rate=0.1, max_bin=None,\n",
              "             max_cat_threshold=None, max_cat_to_onehot=None,\n",
              "             max_delta_step=None, max_depth=None, max_leaves=None,\n",
              "             min_child_weight=None, missing=nan, monotone_constraints=None,\n",
              "             n_estimators=100, n_jobs=None, num_parallel_tree=None,\n",
              "             predictor=None, random_state=42, ...)</pre></div></div></div></div></div>"
            ]
          },
          "metadata": {},
          "execution_count": 23
        }
      ]
    },
    {
      "cell_type": "code",
      "source": [
        "y_pred = model.predict(X_test_scaled)\n",
        "mse = mean_squared_error(y_test, y_pred)\n",
        "rmse = mse ** 0.5\n",
        "print(f'Root Mean Squared Error: {rmse}')"
      ],
      "metadata": {
        "id": "1CpED-of7skZ",
        "colab": {
          "base_uri": "https://localhost:8080/"
        },
        "outputId": "34fdee2e-eea5-4208-9325-7c4003fc4f38"
      },
      "execution_count": 24,
      "outputs": [
        {
          "output_type": "stream",
          "name": "stdout",
          "text": [
            "Root Mean Squared Error: 1.018717286335418\n"
          ]
        }
      ]
    },
    {
      "cell_type": "code",
      "source": [
        "new_budget = str(input(\"Enter budget: \"))\n",
        "new_row = pd.DataFrame({\n",
        "    'budget': [new_budget]\n",
        "})\n",
        "\n",
        "new_row_scaled = scaler.transform(new_row)\n",
        "predicted_rating = model.predict(new_row_scaled)[0]\n",
        "print(f\"Predicted Average Rating: {predicted_rating}\")"
      ],
      "metadata": {
        "id": "7MLWsay-8GQQ",
        "colab": {
          "base_uri": "https://localhost:8080/"
        },
        "outputId": "8dfbeb7e-d805-432f-fa95-f3cda572642a"
      },
      "execution_count": 28,
      "outputs": [
        {
          "output_type": "stream",
          "name": "stdout",
          "text": [
            "Enter budget: 20000000\n",
            "Predicted Average Rating: 6.492388725280762\n"
          ]
        }
      ]
    }
  ],
  "metadata": {
    "colab": {
      "name": "Welcome To Colaboratory",
      "provenance": []
    },
    "kernelspec": {
      "display_name": "Python 3",
      "name": "python3"
    }
  },
  "nbformat": 4,
  "nbformat_minor": 0
}